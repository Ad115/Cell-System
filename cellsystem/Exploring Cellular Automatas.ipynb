{
 "cells": [
  {
   "cell_type": "markdown",
   "metadata": {},
   "source": [
    "First we try to implement an ambitious pure-std-Python cellular automata."
   ]
  },
  {
   "cell_type": "code",
   "execution_count": 9,
   "metadata": {},
   "outputs": [],
   "source": [
    "# Helper function\n",
    "import random as rnd\n",
    "\n",
    "def random_trial(probability):\n",
    "    'Return True with a given probability, otherwise return False.'\n",
    "    # Get a random real btw 0 and 1\n",
    "    selector = rnd.random()\n",
    "    \n",
    "    return (selector < probability)\n",
    "# ---"
   ]
  },
  {
   "cell_type": "code",
   "execution_count": 10,
   "metadata": {},
   "outputs": [],
   "source": [
    "from functools import reduce\n",
    "\n",
    "class CellularAutomaton:\n",
    "    'An extensible cellular automaton.'\n",
    "    \n",
    "    # Default location of the neighbors\n",
    "    neighborhood = ( (-1,-1), (-1, 0), (-1, 1),\n",
    "                     ( 0,-1),          ( 0, 1),\n",
    "                     ( 1,-1), ( 1, 0), ( 1, 1) )\n",
    "    \n",
    "    def __init__(self, *args, **kwargs):\n",
    "        'Create the automaton with the specified dimensions.'\n",
    "        self.dimensions = kwargs.get('dimensions', (50, 50))\n",
    "        initialdensity = kwargs.get('initialdensity', 0.5)\n",
    "        # Create a linear grid\n",
    "        self.cells = [int(random_trial(initialdensity)) for i in range(self.totalcells)]\n",
    "    # ---\n",
    "    \n",
    "    def rule(self, cell_coords, cell, neighbors):\n",
    "        'Get next state according to the cell and neighbors'\n",
    "        alive_neighbors = sum(neighbors)\n",
    "        # Game of life rules\n",
    "        if cell:\n",
    "            return 1 if (1 < alive_neighbors < 4) else 0\n",
    "        else:\n",
    "            return 1 if (alive_neighbors == 3) else 0\n",
    "    # ---\n",
    "    \n",
    "    def __str__(self):\n",
    "        string = ''\n",
    "        for row in self.state:\n",
    "            string += ''.join( '#' if cell else '.' for cell in row )\n",
    "            string += '\\n'\n",
    "        return string\n",
    "    \n",
    "    # ---\n",
    "    \n",
    "    @property\n",
    "    def state(self):\n",
    "        rows, cols = self.dimensions\n",
    "        state = [ [self.at((i,j)) for j in range(cols) ] for i in range(rows) ]\n",
    "        return state\n",
    "    # ---\n",
    "    \n",
    "    ### The following is NOT likely to be overriden by subclasses\n",
    "    \n",
    "    def neighborsof(self, position):\n",
    "        'Get the coordinates of the neighboring cells.'\n",
    "        try:\n",
    "            # Check if the positions have been already calculated\n",
    "            return self.neighbors[position]\n",
    "        \n",
    "        except AttributeError:\n",
    "            # Generate neighbors\n",
    "            self.neighbors = {pos:tuple(self.generate_neighborsof(pos)) \n",
    "                               for pos in self.positions}\n",
    "            return self.neighbors[position]\n",
    "    # ---\n",
    "    \n",
    "    def generate_neighborsof(self, position, log=True):\n",
    "        'Generate the coordinates of the neighboring cells.'\n",
    "        # Calculate the neighbors\n",
    "        for neighbor_pos in self.neighborhood:\n",
    "            yield tuple((position[i] + neighbor_coord)\n",
    "                            for i,neighbor_coord in enumerate(neighbor_pos))\n",
    "    # ---\n",
    "            \n",
    "    @property\n",
    "    def totalcells(self):\n",
    "        'From the dimensions, calculate the total number of cells.'\n",
    "        return reduce((lambda x,y: x*y), self.dimensions)\n",
    "    # ---\n",
    "    \n",
    "    def next_position(self, current_position):\n",
    "        'Fetch the next position from the current one.'\n",
    "        # It is easier to work with the reverse\n",
    "        reversed_next = [x for x in reversed(current_position)]\n",
    "        # Try to increment the current position\n",
    "        # Starting from the last coordinate\n",
    "        for i, dim_size in enumerate(reversed(self.dimensions)):\n",
    "            if reversed_next[i] >= dim_size-1:\n",
    "                # Cannot increment, reset position\n",
    "                reversed_next[i] = 0\n",
    "            else:\n",
    "                reversed_next[i] += 1\n",
    "                break\n",
    "        else:\n",
    "            # If no position was incremented, \n",
    "            return None\n",
    "\n",
    "        # Flip again to recover the actual next\n",
    "        return tuple(reversed(reversed_next))\n",
    "    # ---\n",
    "    \n",
    "    @property\n",
    "    def positions(self):\n",
    "        try:\n",
    "            # check if positions have already been gnerated\n",
    "            return self._positions\n",
    "        except AttributeError:\n",
    "            # Generate positions\n",
    "            self._positions = tuple(self.enumpositions())\n",
    "            return self.positions\n",
    "\n",
    "    def enumpositions(self):\n",
    "        'Enumerate all the positions of the automata.'\n",
    "        # Initialize...\n",
    "        current = tuple(0 for dim in self.dimensions)\n",
    "        while True:\n",
    "            # Check for a valid position\n",
    "            if current:\n",
    "                yield current\n",
    "            else: \n",
    "                break  # No more items\n",
    "            # Fetch next position\n",
    "            current = self.next_position(current)\n",
    "    # ---\n",
    "    \n",
    "    def linearize(self, coordinates):\n",
    "        '''Linearize the given coordinates.\n",
    "        \n",
    "        The cells of the automata are stored in a 1D list,\n",
    "        so, this method returns the linear index for the \n",
    "        multidimensional coordinate.\n",
    "        \n",
    "        For 2D (rows, cols), the i,j position is:\n",
    "            j + i*rows.\n",
    "        \n",
    "        For 3D (rows, cols, depth) the i,j,k position is:\n",
    "            k + j*depth + i*cols*depth.\n",
    "        \n",
    "        For N dimensions, (D0, D1, D2, ... D[N-1]) the (x0, x1, ... x[N-1]) position is:\n",
    "            x[N-1] \n",
    "            + x[N-2] * D[N-1] \n",
    "            + x[N-3] * D[N-2]*D[N-1] \n",
    "            + ... \n",
    "            + x0 * (D1*D2...*D[N-1])\n",
    "        '''\n",
    "        dims = len(self.dimensions)\n",
    "        # Need to get an item from a 1D array \n",
    "        # given it's coordinates as an n dimensional tuple\n",
    "        multiplier = 1\n",
    "        linear_position = 0\n",
    "        for i, dim_size in reversed(list(enumerate(self.dimensions))):\n",
    "            # Add the weighted coordinate\n",
    "            linear_position += multiplier*coordinates[i]\n",
    "            # Calculate the new multiplier\n",
    "            multiplier *= dim_size\n",
    "            \n",
    "        return linear_position\n",
    "        \n",
    "    \n",
    "    def at(self, coordinates):\n",
    "        '''Get the cell at the given coordinates.\n",
    "        \n",
    "        For 2D (rows, cols), the i,j position is:\n",
    "            j + i*rows.\n",
    "        \n",
    "        For 3D (rows, cols, depth) the i,j,k position is:\n",
    "            k + j*depth + i*cols*depth.\n",
    "        \n",
    "        For N dimensions, (D0, D1, D2, ... D[N-1]) the (x0, x1, ... x[N-1]) position is:\n",
    "            x[N-1] \n",
    "            + x[N-2] * D[N-1] \n",
    "            + x[N-3] * D[N-2]*D[N-1] \n",
    "            + ... \n",
    "            + x0 * (D1*D2...*D[N-1])\n",
    "        '''\n",
    "        # Auto wrapping of the coordinates\n",
    "        coordinates = tuple((c+self.dimensions[i]) % self.dimensions[i] \n",
    "                                for i,c in enumerate(coordinates))\n",
    "        \n",
    "        try:\n",
    "            return self.cells[self.tolinear[coordinates]]\n",
    "        except AttributeError:\n",
    "            # Linear coordinates cache has not been calculated\n",
    "            self.tolinear = {coords:self.linearize(coords) for coords in self.positions}\n",
    "            return self.at(coordinates)\n",
    "        except KeyError as e:\n",
    "            raise IndexError(f'Coordinates {coordinates} out of range.') from e\n",
    "    # ---\n",
    "    \n",
    "    def step(self):\n",
    "        'Move one time step forward.'\n",
    "        self.cells = self.applyrule(self.cells)\n",
    "    # ---\n",
    "    \n",
    "    def applyrule(self, grid):\n",
    "        'Apply automaton rule to the given grid of cells.'\n",
    "        # Create a new grid\n",
    "        newgrid = [cell for cell in self.cells]\n",
    "        # Apply the rule\n",
    "        for i,coords in enumerate(self.positions):\n",
    "            cell_state = self.at(coords)\n",
    "            cell_neighbors = (self.at(n_coords) \n",
    "                                  for n_coords in self.neighborsof(coords))\n",
    "            # Calculate the new state\n",
    "            newgrid[i] = self.rule(coords, cell_state, cell_neighbors)\n",
    "            \n",
    "        # Return an immutable new grid\n",
    "        return tuple(newgrid)\n",
    "    # ---\n",
    "# --- CellularAutomaton"
   ]
  },
  {
   "cell_type": "code",
   "execution_count": 11,
   "metadata": {},
   "outputs": [
    {
     "name": "stdout",
     "output_type": "stream",
     "text": [
      "##..#..#.###...##.#.####..#.###.......#.##..#.##..\n",
      "..##..#..#....#.#####.##.##...#...#..#.##.##......\n",
      "#.#.##.#.....#.#..#.##..######.####..##..##.##.#..\n",
      ".#.##.##..#......##.###.#.#.#..#...###..#..##..##.\n",
      "###.##.##.#....#...#.#.#...#.########..#.....#.#..\n",
      "...#..#.#.#...#############.######.#.###.#.#..###.\n",
      ".###.###.##....##.#.##...##..#.##.####.###.#...##.\n",
      ".########..##..#......##...##...###...#.......#.#.\n",
      "..##.....#....##..#.#.#..#..#..####.###.#....##.#.\n",
      "..#..#.###..#.#.#..##.###..###..#..##..######...##\n",
      "..##..#######..##.##.###..##..#...##.....##..#....\n",
      ".##....###.#....#..#.##..#.#.#.#.###..#.#...#.#.#.\n",
      "..##...##.#.#...##..#######.#.#.#...#..##.#.......\n",
      "#.#.#..###.####.#.....###....#...###..#...###.....\n",
      "#.#.#.#.#....##.###..#.##...#########.###...#..#.#\n",
      "##..####.##.#.##.#...#...##.######.##....##..##.#.\n",
      ".##..###..#.#.#.####.####.##.#.##...#.#.######..#.\n",
      "...#..###.#####.#..##.....#.#..##.###.####.####.##\n",
      "####.#.#.######..######...###..#.....#.#.....##...\n",
      "##.#..#.#####.....##...##..#..###..###...###...#.#\n",
      "###.##############..##.#.#.#......##....#....##.##\n",
      "#.##...#....##......#....##...##..##..#####.#.....\n",
      "....#...#..##.#..####.###.#.#######.###..###.#...#\n",
      ".##..###.#..#####.###.##.#...###.#.#.#.#.##.....#.\n",
      ".....##.#..#.#####..#.#....####..##.#....##....##.\n",
      "......#.##.#..##..#.###.#.....##..#.##.#......###.\n",
      ".##.#####.#..#.##....##..##.####..........#...#..#\n",
      ".###..#.##..##..#.#..##.#.##.###..#..###.#.#..#.##\n",
      ".......##.###.#..##.####.#..##..#.#..####..##...#.\n",
      ".#.###..#....#....##....###..#..###.##......#...#.\n",
      "####...##..####...#.#.#####..##..##....#..#.#.##.#\n",
      "..##.#....#.##..####.##.####...##.##.#.#.##...#.#.\n",
      ".#....#.##..######...#.####....####.#####.######..\n",
      ".#.#....#..##.##....####..####..###..#.#.##..#..#.\n",
      "#####.##.####......##..##########.#.###.#.#.#.####\n",
      "#.##..####.#..#.#...#..#...#..##.########.#..#..##\n",
      "#...#..####...##.#...#.#...###.#....#.#######.#.##\n",
      ".##..#####...#####.#.#####..##..#####...###..#....\n",
      "#####..##.#.##.###.#...##...#.#.#.#..#.#.##.#.....\n",
      "..##..#...###...######.#...###...###..##.##.#.##.#\n",
      "#..##....##.####.##.###.#..#.....###.##...#####...\n",
      ".#.........#..##..#######..#.#...#####.##.##..###.\n",
      ".#.....#.##..###..###..#..#.##..##.####.##.....##.\n",
      "#......##.#..#..#..##.####.#.#.###..#.##...##..##.\n",
      "#......###....#.##.#.####.####.#.##.##.###.###..##\n",
      "..#.##.#####.##...###.###.#....###.#.#...###...###\n",
      ".#.####.#.###.##.######.###...##....##.#..###.....\n",
      "#..#..##.##.#..#....###.#..#.##....#..........#.#.\n",
      "..#.###.#.#.###..#.###..#.#....##....#######..#...\n",
      "..##.#....####.######..#####.#...###.#.##....##...\n",
      "\n",
      "...............##.................................\n",
      "...............##.................................\n",
      "...............##.................................\n",
      "..................................................\n",
      "..................................................\n",
      "..............##....................###...........\n",
      "..........###.....................................\n",
      "..........#....#..................#.....#.........\n",
      "..............#...................#.....#.........\n",
      "...........###....................#.....#.........\n",
      "..................................................\n",
      "....................................###.........##\n",
      "..........##....................................##\n",
      ".........#..#.....................................\n",
      "..........##....##......#.........................\n",
      "................##.....#.#........................\n",
      "........................##........................\n",
      "..................................................\n",
      "..............................................##..\n",
      "..............................................##..\n",
      "..................................................\n",
      "..................................................\n",
      "..................................................\n",
      "..................................................\n",
      "..................................................\n",
      "..................................................\n",
      "..................................................\n",
      "..................................................\n",
      "............##....................................\n",
      "............##....................................\n",
      "..................................................\n",
      "..................................................\n",
      "..................................................\n",
      "#..........................##...................##\n",
      "...........................##.....................\n",
      "..................................................\n",
      "..................................................\n",
      "..................................................\n",
      "..................................#...............\n",
      "..............##..................#.........##....\n",
      "..............###.................#.........##....\n",
      "..............#.#..........###....................\n",
      "..................................................\n",
      "..................................................\n",
      "........####......................................\n",
      "..........##.#......#......................##.....\n",
      "...........#..##...#.#....................#.#.....\n",
      "...........##.##....##.....................#......\n",
      "..........#.#.......##............................\n",
      "..........###.....................................\n",
      "\n"
     ]
    }
   ],
   "source": [
    "life = CellularAutomaton()\n",
    "print(life)\n",
    "for _ in range(100):\n",
    "    life.step()\n",
    "print(life)"
   ]
  },
  {
   "cell_type": "code",
   "execution_count": 12,
   "metadata": {},
   "outputs": [],
   "source": [
    "class WolframCA(CellularAutomaton):\n",
    "    'Instantiation of the CellularAutomata for a 1D automton'\n",
    "    \n",
    "    neighborhood = ( (-1,), (0,), (1,))\n",
    "    \n",
    "    def __init__(self, length=50, rule=(0, 1, 0, 1, 1, 0, 1, 0)):\n",
    "        'Create the automaton with the specified dimensions.'\n",
    "        # Initialize grid\n",
    "        self.dimensions=(length,)\n",
    "        self.cells = [0 for _ in range(length)]\n",
    "        self.cells[length//2] = 1\n",
    "        # Parse other arguments\n",
    "        self.ruledef=rule\n",
    "    # ---\n",
    "    \n",
    "    def process_neighborhood(self, neighbors):\n",
    "        'Convert neighborhood to integer to apply rule.'\n",
    "        left, current, right = neighbors\n",
    "        return left + current*2 + right*4\n",
    "    \n",
    "    def rule(self, cell_coords, cell, neighbors):\n",
    "        'Get next state according to the cell and neighbors'\n",
    "        i = cell_coords[0]\n",
    "        grid_dim = self.dimensions[0]\n",
    "        return self.ruledef[self.process_neighborhood(neighbors)]\n",
    "    # ---\n",
    "    \n",
    "    def __str__(self):\n",
    "        return ''.join( '#' if cell else '.' for cell in self.state )\n",
    "    # ---\n",
    "    \n",
    "    @property\n",
    "    def state(self):\n",
    "        cells = self.dimensions[0]\n",
    "        state = [ self.at((i,)) for i in range(cells) ]\n",
    "        return state\n",
    "    # ---       \n",
    "    "
   ]
  },
  {
   "cell_type": "code",
   "execution_count": 13,
   "metadata": {},
   "outputs": [
    {
     "name": "stdout",
     "output_type": "stream",
     "text": [
      "..................................................#.................................................\n",
      ".................................................###................................................\n",
      "................................................#...#...............................................\n",
      "...............................................###.###..............................................\n",
      "..............................................#.......#.............................................\n",
      ".............................................###.....###............................................\n",
      "............................................#...#...#...#...........................................\n",
      "...........................................###.###.###.###..........................................\n",
      "..........................................#...............#.........................................\n",
      ".........................................###.............###........................................\n",
      "........................................#...#...........#...#.......................................\n",
      ".......................................###.###.........###.###......................................\n",
      "......................................#.......#.......#.......#.....................................\n",
      ".....................................###.....###.....###.....###....................................\n",
      "....................................#...#...#...#...#...#...#...#...................................\n",
      "...................................###.###.###.###.###.###.###.###..................................\n",
      "..................................#...............................#.................................\n",
      ".................................###.............................###................................\n",
      "................................#...#...........................#...#...............................\n",
      "...............................###.###.........................###.###..............................\n",
      "..............................#.......#.......................#.......#.............................\n",
      ".............................###.....###.....................###.....###............................\n",
      "............................#...#...#...#...................#...#...#...#...........................\n",
      "...........................###.###.###.###.................###.###.###.###..........................\n",
      "..........................#...............#...............#...............#.........................\n",
      ".........................###.............###.............###.............###........................\n",
      "........................#...#...........#...#...........#...#...........#...#.......................\n",
      ".......................###.###.........###.###.........###.###.........###.###......................\n",
      "......................#.......#.......#.......#.......#.......#.......#.......#.....................\n",
      ".....................###.....###.....###.....###.....###.....###.....###.....###....................\n",
      "....................#...#...#...#...#...#...#...#...#...#...#...#...#...#...#...#...................\n",
      "...................###.###.###.###.###.###.###.###.###.###.###.###.###.###.###.###..................\n",
      "..................#...............................................................#.................\n",
      ".................###.............................................................###................\n",
      "................#...#...........................................................#...#...............\n",
      "...............###.###.........................................................###.###..............\n",
      "..............#.......#.......................................................#.......#.............\n",
      ".............###.....###.....................................................###.....###............\n",
      "............#...#...#...#...................................................#...#...#...#...........\n",
      "...........###.###.###.###.................................................###.###.###.###..........\n",
      "..........#...............#...............................................#...............#.........\n",
      ".........###.............###.............................................###.............###........\n",
      "........#...#...........#...#...........................................#...#...........#...#.......\n",
      ".......###.###.........###.###.........................................###.###.........###.###......\n",
      "......#.......#.......#.......#.......................................#.......#.......#.......#.....\n",
      ".....###.....###.....###.....###.....................................###.....###.....###.....###....\n",
      "....#...#...#...#...#...#...#...#...................................#...#...#...#...#...#...#...#...\n",
      "...###.###.###.###.###.###.###.###.................................###.###.###.###.###.###.###.###..\n",
      "..#...............................#...............................#...............................#.\n",
      ".###.............................###.............................###.............................###\n"
     ]
    }
   ],
   "source": [
    "w = WolframCA(length=100, rule=(0, 1, 1, 0, 1, 0, 0, 0))\n",
    "for _ in range(50):\n",
    "    print(w)\n",
    "    w.step()"
   ]
  },
  {
   "cell_type": "code",
   "execution_count": 14,
   "metadata": {},
   "outputs": [],
   "source": [
    "class DiffusionCA(CellularAutomaton):\n",
    "    'Instantiation of the CellularAutomata with a diffusion rule'\n",
    "    \n",
    "    def __init__(self, *args, **kwargs):\n",
    "        super().__init__(*args, **kwargs)\n",
    "        self.diff_constant = kwargs.get('diff_constant', 0.0001)\n",
    "    \n",
    "    def rule(self, cell_coords, cell, neighbors):\n",
    "        'Get next state according to the cell and neighbors'\n",
    "        laplacian = sum(neighbors) - 4*cell\n",
    "        return cell + self.diff_constant * laplacian\n",
    "    # ---\n",
    "    \n",
    "    def tochar(self, value):\n",
    "        values = ' .,:;x#X&@EEE '\n",
    "        return values[int(value / (1/10))-1]\n",
    "    \n",
    "    def __str__(self):\n",
    "        string = ''\n",
    "        for row in self.state:\n",
    "            string += ''.join( self.tochar(cell) for cell in row )\n",
    "            string += '\\n'\n",
    "        return string\n",
    "    # ---       \n",
    "    \n",
    "    "
   ]
  },
  {
   "cell_type": "code",
   "execution_count": 15,
   "metadata": {},
   "outputs": [
    {
     "name": "stdout",
     "output_type": "stream",
     "text": [
      "@     @   \n",
      "  @     @@\n",
      "@@ @ @    \n",
      " @  @@@  @\n",
      "@ @@@@ @@ \n",
      " @  @     \n",
      "      @  @\n",
      "@   @@ @  \n",
      " @ @@    @\n",
      "@     @@@ \n",
      "\n"
     ]
    }
   ],
   "source": [
    "d = DiffusionCA(dimensions=(10, 10), \n",
    "                initialdensity=0.4, \n",
    "                diff_constant=0.000001)\n",
    "print(d)"
   ]
  },
  {
   "cell_type": "code",
   "execution_count": 16,
   "metadata": {},
   "outputs": [
    {
     "name": "stdout",
     "output_type": "stream",
     "text": [
      "&     &. .\n",
      "  &     X&\n",
      "@& & &    \n",
      ".@..E@@  &\n",
      "& &@@@ && \n",
      " &  &     \n",
      "      &  X\n",
      "&   && X  \n",
      " & &&    &\n",
      "&     &&& \n",
      "\n",
      "[[0.9339600358052933, 0.14770471200308305, 0.06309293820670048, 0.05678935418098183, 0.01882610519466107, 0.1001617049874685, 0.9252661738581461, 0.22690339424355274, 0.19317764149463, 0.23237601264505023], [0.1963843580166423, 0.1911596607163056, 0.9244974172041268, 0.10143131770270092, 0.10134341942293117, 0.10346316344088514, 0.10653184027394727, 0.10777157543200583, 0.8918155252051294, 0.9731338729979556], [1.0173613559030774, 0.9783742984215208, 0.19542042081579827, 0.9351224792602031, 0.19530474457420918, 0.9739615160511913, 0.15001435035840374, 0.10690582904838945, 0.14800437790023288, 0.1943335205360899], [0.23758221624271716, 1.0185660187889225, 0.23896999838204605, 0.2430928661411247, 1.1029110955431967, 1.062664407714641, 1.0141937539266737, 0.1499695680127101, 0.14893959422487418, 0.9729908252822428], [0.9729880516256795, 0.19639299582780878, 0.9774810361193979, 1.0217812306425313, 1.0649930618080592, 1.0628128777195032, 0.19753506345604074, 0.9297562749958805, 0.9275577265816456, 0.151922424455797], [0.14775840034404283, 0.926657431655372, 0.14910313679047724, 0.19248450797571953, 0.9775815428853329, 0.19773487493870062, 0.1532768887254148, 0.14674697805923353, 0.1445443865141056, 0.14659242528746508], [0.1454198919234204, 0.10435065839778424, 0.064498632060775, 0.10782571798035598, 0.15316664772173472, 0.1922447537690657, 0.9277920625150907, 0.10564809787386381, 0.10450697864072662, 0.8862572177839616], [0.9652716963339738, 0.10427962050289681, 0.10120313353502527, 0.1443864073926871, 0.9695029892526044, 0.9717188667612823, 0.1508768077412333, 0.8875417332443848, 0.14668261741567817, 0.14962852720140649], [0.19070102480862192, 0.9250769758707131, 0.10298607973054416, 0.9227889655857415, 0.9670695864207458, 0.19070816647944994, 0.19089602726073013, 0.190016107148925, 0.1910626465906383, 0.9718035270840273], [0.9717208131766205, 0.14551327570781167, 0.10096786534465968, 0.0978286396550802, 0.10193865183381572, 0.14535127615144205, 0.9314366762423818, 0.972782591876453, 0.9369839884152796, 0.19527325521687078]]\n"
     ]
    }
   ],
   "source": [
    "for _ in range(50000): \n",
    "    d.step()\n",
    "print(d)\n",
    "print(d.state)"
   ]
  },
  {
   "cell_type": "code",
   "execution_count": 24,
   "metadata": {},
   "outputs": [],
   "source": [
    "d = DiffusionCA(dimensions=(100, 100), \n",
    "                initialdensity=0.4, \n",
    "                diff_constant=0.000001)\n",
    "#% load_ext line_profiler\n",
    "%lprun -f d.applyrule for _ in range(10): d.step()"
   ]
  },
  {
   "cell_type": "markdown",
   "metadata": {},
   "source": [
    "Exploring NumPy\n",
    "=========\n",
    "\n",
    "The above automatons showed the structure accomplished the goal of being flexible and to allow not-so-painful implementation of several kinds of CA. The problem is that the performance is too low. 1000 steps on a 10x10 grid of the diffusion automaton took ~10s, and only 10 steps on a 100x100 took ~16s. That is a lot!\n",
    "\n",
    "NumPy offers efficient numeric computations and vectorization, so it looks promising.\n",
    "\n",
    "In the following we investigate how can we implement some automatons in NumPy."
   ]
  },
  {
   "cell_type": "markdown",
   "metadata": {},
   "source": [
    "First, we get into aquaintance of how to do handle Numpy objects"
   ]
  },
  {
   "cell_type": "code",
   "execution_count": 23,
   "metadata": {},
   "outputs": [],
   "source": [
    "import numpy as np"
   ]
  },
  {
   "cell_type": "code",
   "execution_count": 25,
   "metadata": {},
   "outputs": [
    {
     "data": {
      "text/plain": [
       "array([0, 1, 2, 3, 4, 5, 6, 7, 8, 9])"
      ]
     },
     "execution_count": 25,
     "metadata": {},
     "output_type": "execute_result"
    }
   ],
   "source": [
    "my_list = [i for i in range(10)]\n",
    "my_array = np.array(my_list)\n",
    "my_array"
   ]
  },
  {
   "cell_type": "code",
   "execution_count": 27,
   "metadata": {},
   "outputs": [
    {
     "name": "stdout",
     "output_type": "stream",
     "text": [
      "0\n",
      "[3 4]\n",
      "8\n",
      "[8 9]\n"
     ]
    }
   ],
   "source": [
    "print(my_array[0])\n",
    "print(my_array[3:5])\n",
    "print(my_array[-2])\n",
    "print(my_array[-2:])\n"
   ]
  },
  {
   "cell_type": "code",
   "execution_count": 28,
   "metadata": {},
   "outputs": [
    {
     "name": "stdout",
     "output_type": "stream",
     "text": [
      "[0, 1, 2, 3, 4, 5, 6, 7, 8, 9, 0, 1, 2, 3, 4, 5, 6, 7, 8, 9]\n",
      "[0, 1, 2, 3, 4, 5, 6, 7, 8, 9, 0, 1, 2, 3, 4, 5, 6, 7, 8, 9]\n",
      "[ 0  2  4  6  8 10 12 14 16 18]\n",
      "[ 0  2  4  6  8 10 12 14 16 18]\n"
     ]
    }
   ],
   "source": [
    "print(my_list + my_list)\n",
    "print(my_list*2)\n",
    "print(my_array + my_array)\n",
    "print(my_array*2)"
   ]
  },
  {
   "cell_type": "code",
   "execution_count": 30,
   "metadata": {},
   "outputs": [
    {
     "name": "stdout",
     "output_type": "stream",
     "text": [
      "[0 1 2 3 4 5 6 7 8 9]\n",
      "[1 2 3 4 5 6 7 8 9]\n",
      "[ 1.   1.5  2.   2.5  3.   3.5  4.   4.5  5.   5.5  6.   6.5  7.   7.5  8.\n",
      "  8.5  9.   9.5]\n"
     ]
    }
   ],
   "source": [
    "print(np.arange(10))\n",
    "print(np.arange(1,10))\n",
    "print(np.arange(1,10,0.5))"
   ]
  },
  {
   "cell_type": "code",
   "execution_count": 37,
   "metadata": {},
   "outputs": [
    {
     "name": "stdout",
     "output_type": "stream",
     "text": [
      "[[ 0.  0.  0.  0.]\n",
      " [ 0.  0.  0.  0.]]\n",
      "[ 1.  1.  1.  1.  1.  1.  1.  1.  1.  1.]\n",
      "[[[ 1.  1.  1.]\n",
      "  [ 1.  1.  1.]\n",
      "  [ 1.  1.  1.]]\n",
      "\n",
      " [[ 1.  1.  1.]\n",
      "  [ 1.  1.  1.]\n",
      "  [ 1.  1.  1.]]\n",
      "\n",
      " [[ 1.  1.  1.]\n",
      "  [ 1.  1.  1.]\n",
      "  [ 1.  1.  1.]]]\n"
     ]
    }
   ],
   "source": [
    "print(np.zeros((2,4)))\n",
    "print(np.ones((10,)))\n",
    "print(np.ones((3, 3, 3)))"
   ]
  },
  {
   "cell_type": "code",
   "execution_count": 40,
   "metadata": {},
   "outputs": [
    {
     "name": "stdout",
     "output_type": "stream",
     "text": [
      "Help on function eye in module numpy.lib.twodim_base:\n",
      "\n",
      "eye(N, M=None, k=0, dtype=<class 'float'>)\n",
      "    Return a 2-D array with ones on the diagonal and zeros elsewhere.\n",
      "    \n",
      "    Parameters\n",
      "    ----------\n",
      "    N : int\n",
      "      Number of rows in the output.\n",
      "    M : int, optional\n",
      "      Number of columns in the output. If None, defaults to `N`.\n",
      "    k : int, optional\n",
      "      Index of the diagonal: 0 (the default) refers to the main diagonal,\n",
      "      a positive value refers to an upper diagonal, and a negative value\n",
      "      to a lower diagonal.\n",
      "    dtype : data-type, optional\n",
      "      Data-type of the returned array.\n",
      "    \n",
      "    Returns\n",
      "    -------\n",
      "    I : ndarray of shape (N,M)\n",
      "      An array where all elements are equal to zero, except for the `k`-th\n",
      "      diagonal, whose values are equal to one.\n",
      "    \n",
      "    See Also\n",
      "    --------\n",
      "    identity : (almost) equivalent function\n",
      "    diag : diagonal 2-D array from a 1-D array specified by the user.\n",
      "    \n",
      "    Examples\n",
      "    --------\n",
      "    >>> np.eye(2, dtype=int)\n",
      "    array([[1, 0],\n",
      "           [0, 1]])\n",
      "    >>> np.eye(3, k=1)\n",
      "    array([[ 0.,  1.,  0.],\n",
      "           [ 0.,  0.,  1.],\n",
      "           [ 0.,  0.,  0.]])\n",
      "\n"
     ]
    }
   ],
   "source": [
    "help(np.eye)"
   ]
  },
  {
   "cell_type": "code",
   "execution_count": 42,
   "metadata": {},
   "outputs": [
    {
     "name": "stdout",
     "output_type": "stream",
     "text": [
      "[[ 1.  0.  0.  0.  0.]\n",
      " [ 0.  1.  0.  0.  0.]\n",
      " [ 0.  0.  1.  0.  0.]\n",
      " [ 0.  0.  0.  1.  0.]\n",
      " [ 0.  0.  0.  0.  1.]] \n",
      "\n",
      "\n",
      "[[ True False False False False]\n",
      " [False  True False False False]\n",
      " [False False  True False False]\n",
      " [False False False  True False]\n",
      " [False False False False  True]] \n",
      "\n",
      "\n",
      "[['1' '' '' '' '']\n",
      " ['' '1' '' '' '']\n",
      " ['' '' '1' '' '']\n",
      " ['' '' '' '1' '']\n",
      " ['' '' '' '' '1']]\n"
     ]
    }
   ],
   "source": [
    "fidentity = np.eye(5, dtype='float16')\n",
    "bidentity = np.eye(5, dtype='bool')\n",
    "sidentity = np.eye(5, dtype='unicode_')\n",
    "\n",
    "print(fidentity, \"\\n\\n\")\n",
    "print(bidentity, \"\\n\\n\")\n",
    "print(sidentity)"
   ]
  },
  {
   "cell_type": "code",
   "execution_count": 47,
   "metadata": {},
   "outputs": [
    {
     "name": "stdout",
     "output_type": "stream",
     "text": [
      "0.0\n",
      "[ 0.]\n",
      "[ 2.  1.  0.]\n"
     ]
    }
   ],
   "source": [
    "a = np.arange(3.)\n",
    "print(a[0])\n",
    "print(a[:1])\n",
    "print(a[::-1])"
   ]
  },
  {
   "cell_type": "code",
   "execution_count": 48,
   "metadata": {},
   "outputs": [
    {
     "name": "stdout",
     "output_type": "stream",
     "text": [
      "[ 1.  0.  0.]\n",
      "1.0\n",
      "1.0\n"
     ]
    }
   ],
   "source": [
    "a = np.eye(3)\n",
    "print(a[0])\n",
    "print(a[1][1])\n",
    "print(a[1,1])"
   ]
  },
  {
   "cell_type": "code",
   "execution_count": 52,
   "metadata": {},
   "outputs": [
    {
     "name": "stdout",
     "output_type": "stream",
     "text": [
      "374 ns ± 26.5 ns per loop (mean ± std. dev. of 7 runs, 1000000 loops each)\n"
     ]
    }
   ],
   "source": [
    "large = np.ones((1000, 1000))\n",
    "% timeit large[50][100]"
   ]
  },
  {
   "cell_type": "code",
   "execution_count": 53,
   "metadata": {},
   "outputs": [
    {
     "name": "stdout",
     "output_type": "stream",
     "text": [
      "216 ns ± 34 ns per loop (mean ± std. dev. of 7 runs, 10000000 loops each)\n"
     ]
    }
   ],
   "source": [
    "% timeit large[50, 100]"
   ]
  },
  {
   "cell_type": "code",
   "execution_count": 57,
   "metadata": {},
   "outputs": [
    {
     "name": "stdout",
     "output_type": "stream",
     "text": [
      "[ 2  4  6  8 10 12 14 16 18 20]\n",
      "[ 7  8  9 10 11 12 13 14 15 16]\n",
      "[  1   4   9  16  25  36  49  64  81 100]\n",
      "[ 0.          0.69314718  1.09861229  1.38629436  1.60943791  1.79175947\n",
      "  1.94591015  2.07944154  2.19722458  2.30258509]\n"
     ]
    }
   ],
   "source": [
    "arr = np.arange(1, 11, 1)\n",
    "print(arr*2)\n",
    "print(arr+6)\n",
    "print(arr*arr)\n",
    "print(np.log(arr))"
   ]
  },
  {
   "cell_type": "code",
   "execution_count": 64,
   "metadata": {},
   "outputs": [
    {
     "name": "stdout",
     "output_type": "stream",
     "text": [
      "[[ 1.  1.  1.]\n",
      " [ 1.  1.  1.]]\n",
      "[[[ 123456.  123456.  123456.]\n",
      "  [ 123456.  123456.  123456.]]]\n"
     ]
    }
   ],
   "source": [
    "def generate_array(dimensions=(2,3), value=1):\n",
    "    'Return an array initialized to the value'\n",
    "    return np.ones(dimensions)*value\n",
    "\n",
    "print(generate_array())\n",
    "print(generate_array((1,2,3), 123456))"
   ]
  },
  {
   "cell_type": "code",
   "execution_count": 66,
   "metadata": {},
   "outputs": [
    {
     "name": "stdout",
     "output_type": "stream",
     "text": [
      "[[ 1.  0.  1.  0.  1.]\n",
      " [ 0.  1.  0.  1.  0.]\n",
      " [ 1.  0.  1.  0.  1.]\n",
      " [ 0.  1.  0.  1.  0.]\n",
      " [ 1.  0.  1.  0.  1.]]\n"
     ]
    }
   ],
   "source": [
    "def checkerboard(size=10):\n",
    "    'An nxn matrix with a checkerboard pattern of 1 and 0.'\n",
    "    m = np.zeros((size,size))\n",
    "    m[0::2, 0::2] = 1\n",
    "    m[1::2, 1::2] = 1\n",
    "    return m\n",
    "\n",
    "print(checkerboard(5))"
   ]
  },
  {
   "cell_type": "code",
   "execution_count": null,
   "metadata": {},
   "outputs": [],
   "source": []
  }
 ],
 "metadata": {
  "kernelspec": {
   "display_name": "Python 3",
   "language": "python",
   "name": "python3"
  },
  "language_info": {
   "codemirror_mode": {
    "name": "ipython",
    "version": 3
   },
   "file_extension": ".py",
   "mimetype": "text/x-python",
   "name": "python",
   "nbconvert_exporter": "python",
   "pygments_lexer": "ipython3",
   "version": "3.6.1"
  }
 },
 "nbformat": 4,
 "nbformat_minor": 2
}
