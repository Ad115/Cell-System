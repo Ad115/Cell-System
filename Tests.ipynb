{
 "cells": [
  {
   "cell_type": "code",
   "execution_count": 1,
   "metadata": {},
   "outputs": [],
   "source": [
    "from cellsystem import System, SimpleLogger"
   ]
  },
  {
   "cell_type": "code",
   "execution_count": 2,
   "metadata": {},
   "outputs": [],
   "source": [
    "log = SimpleLogger()"
   ]
  },
  {
   "cell_type": "code",
   "execution_count": 3,
   "metadata": {},
   "outputs": [],
   "source": [
    "sys = System( gridDimensions=(10, 10) )"
   ]
  },
  {
   "cell_type": "code",
   "execution_count": 4,
   "metadata": {},
   "outputs": [
    {
     "name": "stdout",
     "output_type": "stream",
     "text": [
      "New cell added @ (5, 5)\n"
     ]
    }
   ],
   "source": [
    "sys.seed()"
   ]
  },
  {
   "cell_type": "code",
   "execution_count": 5,
   "metadata": {},
   "outputs": [
    {
     "name": "stdout",
     "output_type": "stream",
     "text": [
      "\t\t Initial mutations: []\n",
      "                \t Initial genome: AAAAAAAAAA\n",
      "\t\t Final mutations: [(2, 'T')]\n",
      "                \t Final genome: AATAAAAAAA\n",
      "Cell no. 0 dividing @ (5, 5)\n",
      "\tNew cells: 2 @ (4, 4) and 1 @ (6, 5)\n",
      "\t\t Initial mutations: [(2, 'T')]\n",
      "                \t Initial genome: AATAAAAAAA\n",
      "\t\t Final mutations: [(2, 'T'), (7, 'T')]\n",
      "                \t Final genome: AATAAAATAA\n",
      "\t\t Initial mutations: [(2, 'T')]\n",
      "                \t Initial genome: AATAAAAAAA\n",
      "\t\t Final mutations: [(2, 'T'), (4, 'G')]\n",
      "                \t Final genome: AATAGAAAAA\n",
      "Cell no. 2 dividing @ (4, 4)\n",
      "\tNew cells: 4 @ (5, 5) and 3 @ (5, 4)\n",
      "Cell no. 1 dividing @ (6, 5)\n",
      "\tNew cells: 6 @ (5, 6) and 5 @ (5, 6)\n",
      "Cell no. 5 dying @ site (5, 6) (father 1)\n",
      "\t\t Initial mutations: [(2, 'T'), (4, 'G')]\n",
      "                \t Initial genome: AATAGAAAAA\n",
      "\t\t Final mutations: [(2, 'T'), (4, 'G'), (0, 'G')]\n",
      "                \t Final genome: GATAGAAAAA\n",
      "Cell no. 3 migrating from site (5, 4) (father 2)\n",
      "\t New site: (4, 5)\n",
      "Cell no. 4 migrating from site (5, 5) (father 2)\n",
      "\t New site: (5, 6)\n",
      "Cell no. 3 dying @ site (4, 5) (father 2)\n",
      "Cell no. 6 dividing @ (5, 6)\n",
      "\tNew cells: 8 @ (4, 5) and 7 @ (4, 5)\n",
      "Cell no. 7 dividing @ (4, 5)\n",
      "\tNew cells: 10 @ (5, 5) and 9 @ (4, 5)\n",
      "Cell no. 4 dying @ site (5, 6) (father 2)\n",
      "Cell no. 9 dividing @ (4, 5)\n",
      "\tNew cells: 12 @ (5, 5) and 11 @ (3, 5)\n",
      "Cell no. 8 dying @ site (4, 5) (father 6)\n",
      "Cell no. 12 dividing @ (5, 5)\n",
      "\tNew cells: 14 @ (6, 6) and 13 @ (4, 6)\n",
      "Cell no. 11 migrating from site (3, 5) (father 9)\n",
      "\t New site: (3, 5)\n",
      "Cell no. 10 migrating from site (5, 5) (father 7)\n",
      "\t New site: (6, 4)\n",
      "Cell no. 11 dividing @ (3, 5)\n",
      "\tNew cells: 16 @ (3, 6) and 15 @ (2, 4)\n",
      "Cell no. 10 dividing @ (6, 4)\n",
      "\tNew cells: 18 @ (7, 4) and 17 @ (6, 5)\n",
      "Cell no. 14 dividing @ (6, 6)\n",
      "\tNew cells: 20 @ (5, 5) and 19 @ (6, 6)\n"
     ]
    }
   ],
   "source": [
    "sys.step(10, log=log)"
   ]
  },
  {
   "cell_type": "code",
   "execution_count": 6,
   "metadata": {},
   "outputs": [
    {
     "data": {
      "text/plain": [
       "<cellsystem.log.SimpleLogger at 0x7ff81454fb00>"
      ]
     },
     "execution_count": 6,
     "metadata": {},
     "output_type": "execute_result"
    }
   ],
   "source": [
    "log"
   ]
  },
  {
   "cell_type": "code",
   "execution_count": 7,
   "metadata": {},
   "outputs": [
    {
     "data": {
      "text/plain": [
       "{'file': <ipykernel.iostream.OutStream at 0x7ff815ead710>, 'preparation': {}}"
      ]
     },
     "execution_count": 7,
     "metadata": {},
     "output_type": "execute_result"
    }
   ],
   "source": [
    "log.__dict__"
   ]
  },
  {
   "cell_type": "code",
   "execution_count": null,
   "metadata": {},
   "outputs": [],
   "source": []
  }
 ],
 "metadata": {
  "kernelspec": {
   "display_name": "Python 3",
   "language": "python",
   "name": "python3"
  },
  "language_info": {
   "codemirror_mode": {
    "name": "ipython",
    "version": 3
   },
   "file_extension": ".py",
   "mimetype": "text/x-python",
   "name": "python",
   "nbconvert_exporter": "python",
   "pygments_lexer": "ipython3",
   "version": "3.6.1"
  }
 },
 "nbformat": 4,
 "nbformat_minor": 2
}
