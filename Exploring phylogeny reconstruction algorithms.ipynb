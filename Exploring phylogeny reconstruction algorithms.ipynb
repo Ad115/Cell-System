{
 "cells": [
  {
   "cell_type": "code",
   "execution_count": 42,
   "metadata": {},
   "outputs": [],
   "source": [
    "%matplotlib inline"
   ]
  },
  {
   "cell_type": "markdown",
   "metadata": {},
   "source": [
    "# Reconstructing trees from ultrametric distances"
   ]
  },
  {
   "cell_type": "code",
   "execution_count": 51,
   "metadata": {},
   "outputs": [],
   "source": [
    "'''\n",
    "This module presents an algorithm for reconstructing\n",
    "the ultrametric tree corresponding to a matrix of \n",
    "ultrametric distances. \n",
    "\n",
    "The algorithm is the one presented by Dan Gusfield in:\n",
    "\n",
    "    http://web.cs.ucdavis.edu/~gusfield/ultraerrat/ultraerrat.html\n",
    "    \n",
    "Additional information can be found on his book:\n",
    "\n",
    "    Algorithms on Strings, Trees, and Sequences.\n",
    "\n",
    "\n",
    "Usage:\n",
    "\n",
    "```python\n",
    "# An ultrametric matrix\n",
    ">>> ultrametric = [ [0, 8, 8, 5, 3],\n",
    "                    [8, 0, 3, 8, 8],\n",
    "                    [8, 3, 0, 8, 8],\n",
    "                    [5, 8, 8, 0, 5],\n",
    "                    [3, 8, 8, 5, 0] ]\n",
    ">>> nodes = ['A', 'B', 'C', 'D', 'E']\n",
    "\n",
    "# Get the tree\n",
    ">>> t = ultrametric_tree(ultrametric, nodes)\n",
    ">>> print(t)\n",
    "\n",
    "             /-A\n",
    "          /-|\n",
    "       /-|   \\-E\n",
    "      |  |\n",
    "    --|   \\-D\n",
    "      |\n",
    "      |   /-B\n",
    "       \\-|\n",
    "          \\-C\n",
    "```\n",
    "    \n",
    "\n",
    "Algorithm description:\n",
    "\n",
    "    \"...here is another combinatorial algorithm that I claim is correct \n",
    "     and that does run in O(n^2) time. The algorithm is described in terms \n",
    "     of a graph G, based on matrix D, but it can be implemented without an \n",
    "     explicit graph.\n",
    "\n",
    "     Let each row i of matrix D be represented by a node i in G, and each \n",
    "     edge (i,j) be given the value D(i,j). In O(n2) time, the algorithm \n",
    "     will find a very particular path in graph G:\n",
    "\n",
    "        Set N equal to all the indices 1 through n; set L to the empty path; \n",
    "        set i to any node.\n",
    "\n",
    "        Repeat n-1 times: begin remove i from N; find an index j in N such \n",
    "        that D(i,j) <= D(i,k) for any k in N. place edge (i,j) in the path L; \n",
    "        set i to j; end;\n",
    "\n",
    "     What this produces is a path L of exactly n edges, and the algorithm \n",
    "     can be implemented in O(n2) time. It turns out that L is a minimum \n",
    "     spanning tree of G, but that fact is not needed.\n",
    "\n",
    "     We will now use L to create the ultrametric tree recursively.\n",
    "\n",
    "     Concentrate on an edge (p,q) in the path L with the largest edge weight \n",
    "     of all edges in L, and let P be the set of nodes at or to the left of p \n",
    "     in L, and let Q be the set of nodes at or to the right of q in L. The \n",
    "     fact that D is an ultrametric matrix implies that for any pair of nodes \n",
    "     (i,j) where i is in P and j is in Q, D(i,j) = D(p,q). One way to prove \n",
    "     this is by induction on the number of edges between i and j in L \n",
    "     (applying the ultrametric condition that in any triangle, the max of the \n",
    "     three edge weights is not unique). What this means is that in the \n",
    "     ultrametric tree we are building (and in any ultrametric tree for D), \n",
    "     any pair of leaves (i,j) where i is in P and j is in Q must have their \n",
    "     least common ancestor at the root of the ultrametric tree, and that root \n",
    "     must be labelled D(p,q).\n",
    "\n",
    "     If there are k > 1 ties for the global max edge weight in L, then \n",
    "     removing those k edges creates k+1 subpaths of nodes, and applying the \n",
    "     above argument, any two nodes i and j which are in different subpaths \n",
    "     must have their least common ancestor at the root of the tree, which \n",
    "     again must be labeled D(p,q). Hence, any ultrametric tree T for D must \n",
    "     have exactly k+1 edges out of D, and the leaf set below any such edge \n",
    "     must be exactly the (distinct) set of nodes in one of the k+1 subpaths.\n",
    "\n",
    "     No matter what k is, removing the k max weight edges in L, and \n",
    "     partitioning N, takes only O(n) time.\n",
    "\n",
    "     To continue the description of the algorithm, we assume for convenience \n",
    "     that k = 1. Let LP and LQ denote the two subpaths created by removing \n",
    "     the max weight edge in L. Now we want to find an ultrametric tree for \n",
    "     set P and one for set Q; these two ultrametric trees will then be \n",
    "     attached to the root to creat the full ultrametric tree for D. But note \n",
    "     that we already have the needed paths LP and LQ that would be created if \n",
    "     we were to recursively apply the above method (clearly LP could result \n",
    "     if we applied the path building algorithm to P alone, and similarly for \n",
    "     LQ and Q). So we only need to find the max weight edge(s) in LP and the \n",
    "     max weight edge(s) in LQ. Those two edges can be found in O(n) total \n",
    "     time. Again, because the nodes were partitioned in the first step, this \n",
    "     time bound holds even for k > 1.\n",
    "\n",
    "     Continuing, we build the ultrametric tree in O(n2) total time.\n",
    "\n",
    "     Note that at each step of the algorithm, the node partitions that are \n",
    "     created, and the associated edges that are put into T, are forced. Hence \n",
    "     if D is an ultrametric matrix, the ultrametric tree T for D is unique.\n",
    "    \" - Dan Gusfield.\n",
    "\n",
    "'''\n",
    "\n",
    "import networkx as nx\n",
    "import ete3 as ete\n",
    "\n",
    "\n",
    "def ultrametric_tree(ultrametric, nodes):\n",
    "    g = get_graph(ultrametric, nodes)\n",
    "    P = get_path(g, ultrametric, nodes)\n",
    "    t = path_to_tree(P)\n",
    "    t.standardize()\n",
    "    \n",
    "    return t\n",
    "# ---\n",
    "\n",
    "\n",
    "def get_graph(ultrametric, nodes):\n",
    "    \"From an ultrametric matrix, get the weights graph.\"\n",
    "    \n",
    "    n = len(nodes) # Matrix dimensions\n",
    "    g = nx.Graph()\n",
    "    \n",
    "    # Add nodes\n",
    "    g.add_nodes_from(nodes)\n",
    "    \n",
    "    # Add edge weights\n",
    "    for i in range(n):\n",
    "        for j in range(i+1, n):\n",
    "            g.add_edge(nodes[i], nodes[j], weight=ultrametric[i][j])\n",
    "            \n",
    "    return g\n",
    "# ---\n",
    "\n",
    "def get_path(g, ultrametric, nodes):\n",
    "    \"From the weights graph, get the path.\"\n",
    "    weight = weights_for(ultrametric, nodes)\n",
    "    \n",
    "    N = set(nodes)\n",
    "    L = nx.Graph()\n",
    "    i = N.pop()\n",
    "\n",
    "    while(N):\n",
    "        # Find a node j in N for which D(i,j) is max\n",
    "        j,w = min([(node, weight(i, node)) for node in N],\n",
    "                  key=(lambda x:x[-1]))\n",
    "        # Place (i,j) in path L\n",
    "        L.add_edge(i,j, weight=w)\n",
    "        \n",
    "        i = j\n",
    "        N.remove(j)\n",
    "        \n",
    "    return L\n",
    "# ---\n",
    "\n",
    "def path_to_tree(P):    \n",
    "    tree = ete.Tree()\n",
    "    \n",
    "    if len(P.edges) <= 1:\n",
    "        # Edge case\n",
    "        for v in P.nodes:\n",
    "            tree.add_child(name=v)\n",
    "    else:\n",
    "        # Remove the edge with the maximum weight\n",
    "        P = P.copy()\n",
    "        edge, weight = max_edge_weight(P)\n",
    "        P.remove_edge(*edge)\n",
    "        \n",
    "        # Do the same to the remaining subpaths\n",
    "        for c in nx.connected_components(P):\n",
    "            component = P.subgraph(c).copy()\n",
    "            tree.add_child(path_to_tree(component))\n",
    "            \n",
    "    return tree\n",
    "# ---\n",
    "\n",
    "def weights_for(matrix, nodes):\n",
    "    \"Get the entries by node name.\"\n",
    "    # Translate node names to indices\n",
    "    to_indices = {node:i for i,node in enumerate(nodes)}\n",
    "    \n",
    "    def weight_fn(a,b):\n",
    "        return matrix[to_indices[a]][to_indices[b]]\n",
    "    \n",
    "    return weight_fn\n",
    "# ---\n",
    "\n",
    "def max_edge_weight(L):\n",
    "    \"Return the edge with the largest weight.\"\n",
    "    return max([(edge,weight) for *edge,weight in L.edges.data('weight')],\n",
    "               key=lambda x: x[-1])\n",
    "# ---\n",
    "\n",
    "def draw_graph(g):\n",
    "    \"Display an edge-weighted graph.\"\n",
    "    labels = nx.get_edge_attributes(g,'weight')\n",
    "    nx.draw_networkx_edge_labels(g,\n",
    "                                 nx.circular_layout(g),\n",
    "                                 edge_labels=labels)\n",
    "    nx.draw_circular(g, with_labels=True)\n",
    "# ---"
   ]
  },
  {
   "cell_type": "code",
   "execution_count": 52,
   "metadata": {},
   "outputs": [
    {
     "name": "stdout",
     "output_type": "stream",
     "text": [
      "\n",
      "      /-C\n",
      "   /-|\n",
      "  |   \\-B\n",
      "--|\n",
      "  |      /-A\n",
      "  |   /-|\n",
      "   \\-|   \\-E\n",
      "     |\n",
      "      \\-D\n"
     ]
    }
   ],
   "source": [
    "# An ultrametric matrix\n",
    "ultrametric = [ [0, 8, 8, 5, 3],\n",
    "                [8, 0, 3, 8, 8],\n",
    "                [8, 3, 0, 8, 8],\n",
    "                [5, 8, 8, 0, 5],\n",
    "                [3, 8, 8, 5, 0] ]\n",
    "nodes = ['A', 'B', 'C', 'D', 'E']\n",
    "\n",
    "# Get the tree\n",
    "t = ultrametric_tree(ultrametric, nodes)\n",
    "print(t)\n",
    "\n",
    "    #         /-A\n",
    "    #      /-|\n",
    "    #   /-|   \\-E\n",
    "    #  |  |\n",
    "    #--|   \\-D\n",
    "    #  |\n",
    "    #  |   /-B\n",
    "    #   \\-|\n",
    "    #      \\-C"
   ]
  },
  {
   "cell_type": "code",
   "execution_count": 53,
   "metadata": {},
   "outputs": [
    {
     "data": {
      "image/png": "[encoded data removed]",
      "text/plain": [
       "<matplotlib.figure.Figure at 0x7fb466b4fef0>"
      ]
     },
     "metadata": {},
     "output_type": "display_data"
    }
   ],
   "source": [
    "g = get_graph(ultrametric, nodes)\n",
    "draw_graph(g)"
   ]
  },
  {
   "cell_type": "code",
   "execution_count": 54,
   "metadata": {},
   "outputs": [
    {
     "data": {
      "image/png": "[encoded data removed]",
      "text/plain": [
       "<matplotlib.figure.Figure at 0x7fb467fdd860>"
      ]
     },
     "metadata": {},
     "output_type": "display_data"
    }
   ],
   "source": [
    "P = get_path(g, ultrametric, nodes)\n",
    "draw_graph(P)"
   ]
  },
  {
   "cell_type": "code",
   "execution_count": 55,
   "metadata": {},
   "outputs": [
    {
     "data": {
      "image/png": "[encoded data removed]",
      "text/plain": [
       "<IPython.core.display.Image object>"
      ]
     },
     "execution_count": 55,
     "metadata": {},
     "output_type": "execute_result"
    }
   ],
   "source": [
    "t = path_to_tree(P)\n",
    "t.render('%%inline')"
   ]
  },
  {
   "cell_type": "markdown",
   "metadata": {},
   "source": [
    "# The Cavender-Farris-Neyman model"
   ]
  },
  {
   "cell_type": "code",
   "execution_count": 314,
   "metadata": {},
   "outputs": [],
   "source": [
    "#%%writefile cellsystem/reconstruction/cfn_model.py \n",
    "\"\"\"\n",
    "Module implementing the Cavender-Farris-Neymann stochastic tree model.\n",
    "\n",
    "The model is based on the description by the book:\n",
    "    \n",
    "    Computational Phylogenetics.\n",
    "      An introduction to designing methods for phylogeny estimation.\n",
    "      -- by Tandy Warnow\n",
    "      \n",
    "Usage:\n",
    "\n",
    "```python\n",
    "# Create a new empty tree.\n",
    ">>> cfn = CFN_Tree()\n",
    "\n",
    "# Branch randomly until you have 5 leaves.\n",
    ">>> cfn.populate(5)\n",
    "\n",
    "     Node: 0, node probability: 0\n",
    "     Node: 1, node probability: 0.2192846999188683\n",
    "     Node: 2, node probability: 0.06144844447962278\n",
    "     Node: 3, node probability: 0.14342505932071808\n",
    "     Node: 4, node probability: 0.1370117188846906\n",
    "     Node: 5, node probability: 0.44060196062669255\n",
    "     Node: 6, node probability: 0.009555798385131098\n",
    "     Node: 7, node probability: 0.48946332859444935\n",
    "     Node: 8, node probability: 0.39505550345399304\n",
    "    \n",
    "           /-3\n",
    "        /1|\n",
    "       |  |   /-7\n",
    "       |   \\4|\n",
    "     -0|      \\-8\n",
    "       |\n",
    "       |   /-5\n",
    "        \\2|\n",
    "           \\-6\n",
    "\n",
    "# Evolve 5 traits through the tree\n",
    ">>> sequences = cfn.evolve_traits([1,1,1,1,1])\n",
    ">>> sequences\n",
    "\n",
    "     { 3: [0, 0, 0, 1, 1], \n",
    "       7: [1, 0, 1, 0, 1], \n",
    "       8: [1, 0, 0, 1, 1], \n",
    "       5: [1, 1, 1, 1, 1], \n",
    "       6: [1, 1, 1, 1, 1] }\n",
    "\n",
    "\n",
    "```\n",
    "\n",
    "The CFN model in words from the book:\n",
    "\n",
    "\"The Cavender-Farris-Neyman (CFN) model describes how a trait (which \n",
    " can either be present or absent) evolves down a tree (Cavender, \n",
    " 1978; Farris, 1973; Neyman, 1971).\n",
    "\n",
    " ...a CFN model has a rooted binary tree T (i.e., a tree in which \n",
    " every node is either a leaf or has two children) with numerical \n",
    " parameters that describe the evolutionary process of a trait. Under \n",
    " the CFN model, the probability of absence (0) or presence (1) is the \n",
    " same at the root, but the state can change on the edges (also called \n",
    " branches) of the tree. Thus, we associate a parameter p(e) to every \n",
    " edge e in the tree, where p(e) denotes the probability that the \n",
    " endpoints of the edge e have different states. In other words, p(e)\n",
    " is the probability of changing state (from 1 to 0, or vice-versa)\n",
    " ... we require 0 < p(e) < 0.5.\n",
    "\n",
    " Under  the  CFN  model,  a  trait  (which  is  also  called  a  \n",
    " “character”)  evolves  down  the tree under this random process, and \n",
    " hence attains a state at every node in the tree, and in particular \n",
    " at the leaves of the tree. You could write a computer program for a \n",
    " CFN model tree that would generate 0s and 1s at the leaves of the \n",
    " tree; thus, CFN is a generative model.\n",
    " \n",
    " Each time you ran the program you would get another pattern of 0s and \n",
    " 1s at the leaves of the tree. Thus, if you repeated the process 10 \n",
    " times, each time independently generating a new trait down the tree, \n",
    " you would produce sequences of length 10 at the leaves of the tree.\"\n",
    "    -- from the book.\n",
    "\"\"\"\n",
    "\n",
    "import math\n",
    "import ete3 as ete\n",
    "import random as rnd\n",
    "from collections import defaultdict\n",
    "\n",
    "\n",
    "def poisson_expected_value(probability):\n",
    "    \"Return the expected value of a poisson random variable.\"\n",
    "    return -math.log(1 - 2*probability) / 2\n",
    "# ---\n",
    "\n",
    "def swap(binary):\n",
    "    if binary:\n",
    "        return 0\n",
    "    else:\n",
    "        return 1\n",
    "# ---\n",
    "\n",
    "def random_test(probability):\n",
    "    'Return True with a given probability, otherwise return False.'\n",
    "    return (rnd.random() < probability)\n",
    "# ---\n",
    "\n",
    "\n",
    "class CFN_Tree(ete.Tree):\n",
    "    \"A Cavender-Farris-Neymann stochastic tree model.\"\n",
    "    \n",
    "    def populate(self, n):\n",
    "        'Populate the tree with nodes and change probabilities.'\n",
    "        # Populate the usual way\n",
    "        super().populate(n)\n",
    "        # Change names and add probabilities\n",
    "        for i,node in enumerate(self.traverse()):\n",
    "            node.name = i\n",
    "            if i > 0:\n",
    "                # Add a change probability < 0.5\n",
    "                p = rnd.random() / 2\n",
    "                node.add_feature('probability', p)\n",
    "                # The probability must be associated to the edge (branch),\n",
    "                # in this implementation, we associate the probability to\n",
    "                # the node downstream of the edge.\n",
    "                \n",
    "                # Add the distance from the previous node \n",
    "                node.dist = poisson_expected_value(p)\n",
    "                # The 'CNF model distance' is the expected number of\n",
    "                # changes in traversing the edge, modeled as a Poisson rv.\n",
    "                \n",
    "                print(f\"Node: {i}, node probability: {node.probability}, branch length: {node.dist}\")\n",
    "            else:\n",
    "                # No probability of change before this\n",
    "                node.add_feature('probability', 0)\n",
    "            \n",
    "        print(self)\n",
    "    # ---        \n",
    "        \n",
    "    def total_nodes(self):\n",
    "        return len(list(self.traverse()))\n",
    "    # ---\n",
    "    \n",
    "    def evolve_traits(self, traits):\n",
    "        \"Evolve the binary traits through the tree.\"\n",
    "        # The sequences generated\n",
    "        sequences = defaultdict(list)\n",
    "        for leaf in self.iter_leaves():\n",
    "            path_from_root = list(reversed(leaf.get_ancestors()))\n",
    "            path_from_root.append(leaf)\n",
    "            # Evolve each trait\n",
    "            for trait in traits:\n",
    "                # Follow path stochastically \n",
    "                final_trait = self.trait_traverse(path_from_root, trait)\n",
    "                # Save character's final state\n",
    "                sequences[leaf.name].append(final_trait)\n",
    "        return dict(sequences)\n",
    "    # ---\n",
    "            \n",
    "    def trait_traverse(self, path_from_root, init):\n",
    "        # Follow path stochastically \n",
    "        trait = init\n",
    "        for node in path_from_root: \n",
    "            probability = node.probability\n",
    "            if random_test(probability):\n",
    "                trait = swap(trait)\n",
    "        # Return character's final state\n",
    "        return trait\n",
    "    # ---\n",
    "    \n",
    "    def __str__(self):\n",
    "        return self.get_ascii(show_internal=True)\n",
    "    # ---\n",
    "# --- CFN_Tree"
   ]
  },
  {
   "cell_type": "code",
   "execution_count": 344,
   "metadata": {},
   "outputs": [
    {
     "name": "stdout",
     "output_type": "stream",
     "text": [
      "Node: 1, node probability: 0.14320389502973357, branch length: 0.16872180716953908\n",
      "Node: 2, node probability: 0.19946946595212833, branch length: 0.2545293694003664\n",
      "Node: 3, node probability: 0.044762741760365654, branch length: 0.04689468434840173\n",
      "Node: 4, node probability: 0.32444491067342357, branch length: 0.5233276027378082\n",
      "Node: 5, node probability: 0.273760084278192, branch length: 0.396506044115407\n",
      "Node: 6, node probability: 0.3481427566383571, branch length: 0.595833603649967\n",
      "Node: 7, node probability: 0.4464929691439005, branch length: 1.1173975176418922\n",
      "Node: 8, node probability: 0.16226189967547766, branch length: 0.19616867720116893\n",
      "\n",
      "   /-1\n",
      "-0|\n",
      "  |   /-3\n",
      "   \\2|\n",
      "     |   /-5\n",
      "      \\4|\n",
      "        |   /-7\n",
      "         \\6|\n",
      "            \\-8\n"
     ]
    },
    {
     "data": {
      "image/png": "[encoded data removed]",
      "text/plain": [
       "<IPython.core.display.Image object>"
      ]
     },
     "execution_count": 344,
     "metadata": {},
     "output_type": "execute_result"
    }
   ],
   "source": [
    "# Create a new empty tree.\n",
    "cfn = CFN_Tree()\n",
    "\n",
    "# Branch randomly until you have 5 leaves.\n",
    "cfn.populate(5)\n",
    "\n",
    "    # Node: 0, node probability: 0\n",
    "    # Node: 1, node probability: 0.2192846999188683\n",
    "    # Node: 2, node probability: 0.06144844447962278\n",
    "    # Node: 3, node probability: 0.14342505932071808\n",
    "    # Node: 4, node probability: 0.1370117188846906\n",
    "    # Node: 5, node probability: 0.44060196062669255\n",
    "    # Node: 6, node probability: 0.009555798385131098\n",
    "    # Node: 7, node probability: 0.48946332859444935\n",
    "    # Node: 8, node probability: 0.39505550345399304\n",
    "    #\n",
    "    #       /-3\n",
    "    #    /1|\n",
    "    #   |  |   /-7\n",
    "    #   |   \\4|\n",
    "    # -0|      \\-8\n",
    "    #   |\n",
    "    #   |   /-5\n",
    "    #    \\2|\n",
    "    #       \\-6\n",
    "    \n",
    "cfn.render('%%inline')"
   ]
  },
  {
   "cell_type": "code",
   "execution_count": 345,
   "metadata": {},
   "outputs": [
    {
     "name": "stdout",
     "output_type": "stream",
     "text": [
      "{1: [0, 0, 1, 0, 1], 3: [1, 1, 1, 1, 0], 5: [0, 1, 0, 1, 0], 7: [1, 1, 1, 0, 0], 8: [0, 0, 1, 1, 1]}\n"
     ]
    }
   ],
   "source": [
    "# Evolve 5 traits through the tree\n",
    "sequences = cfn.evolve_traits([1,1,1,1,1])\n",
    "print(sequences)\n",
    "\n",
    "    # { 3: [0, 0, 0, 1, 1], \n",
    "    #   7: [1, 0, 1, 0, 1], \n",
    "    #   8: [1, 0, 0, 1, 1], \n",
    "    #   5: [1, 1, 1, 1, 1], \n",
    "    #   6: [1, 1, 1, 1, 1] }"
   ]
  },
  {
   "cell_type": "markdown",
   "metadata": {},
   "source": [
    "## Clocklike reconstruction on the CFN model"
   ]
  },
  {
   "cell_type": "code",
   "execution_count": 346,
   "metadata": {},
   "outputs": [],
   "source": [
    "# Evolve traits through the tree\n",
    "sequences = cfn.evolve_traits([1]*10000)"
   ]
  },
  {
   "cell_type": "code",
   "execution_count": 347,
   "metadata": {},
   "outputs": [
    {
     "data": {
      "text/plain": [
       "4"
      ]
     },
     "execution_count": 347,
     "metadata": {},
     "output_type": "execute_result"
    }
   ],
   "source": [
    "def simpledistance(seq_1, seq_2):\n",
    "    \"From two binary sequences, compute their distance.\"\n",
    "    differences = (1 for a,b in zip(seq_1, seq_2) if a != b)\n",
    "    return sum(differences)\n",
    "# ---\n",
    "\n",
    "binary_distance([0]*10, [1]*4 + [0]*6)"
   ]
  },
  {
   "cell_type": "code",
   "execution_count": 348,
   "metadata": {},
   "outputs": [
    {
     "data": {
      "text/plain": [
       "{(1, 3): 2985,\n",
       " (1, 5): 4648,\n",
       " (1, 7): 4938,\n",
       " (1, 8): 4842,\n",
       " (3, 5): 4671,\n",
       " (3, 7): 4989,\n",
       " (3, 8): 4953,\n",
       " (5, 7): 5036,\n",
       " (5, 8): 5004,\n",
       " (7, 8): 5026}"
      ]
     },
     "execution_count": 348,
     "metadata": {},
     "output_type": "execute_result"
    }
   ],
   "source": [
    "import itertools as it\n",
    "\n",
    "def pairwise_distances(sequences, distance_fn=simpledistance):\n",
    "    \"From the binary sequences, compute pairwise edit distances.\"\n",
    "    # Get all the pairs\n",
    "    pairs = it.combinations(sequences, 2)\n",
    "    # Compute distances\n",
    "    distances = dict()\n",
    "    for i,j in pairs:\n",
    "        distances[(i,j)] = distance_fn(sequences[i], sequences[j])\n",
    "    return distances\n",
    "# ---\n",
    "\n",
    "pairwise_distances(sequences)"
   ]
  },
  {
   "cell_type": "code",
   "execution_count": 349,
   "metadata": {},
   "outputs": [
    {
     "data": {
      "text/plain": [
       "[1, 3, 5, 7, 8]"
      ]
     },
     "execution_count": 349,
     "metadata": {},
     "output_type": "execute_result"
    }
   ],
   "source": [
    "leaves = list(sequences.keys())\n",
    "leaves"
   ]
  },
  {
   "cell_type": "code",
   "execution_count": 350,
   "metadata": {},
   "outputs": [
    {
     "name": "stdout",
     "output_type": "stream",
     "text": [
      "1 3 2985\n",
      "3 5 4671\n",
      "5 8 5004\n",
      "Tree before a=5,b=8 5004: \n",
      "\n",
      "   /-7\n",
      "--|\n",
      "   \\-8\n",
      "Tree after a=5,b=8 5004: \n",
      "\n",
      "   /-7\n",
      "--|\n",
      "  |   /-5\n",
      "   \\-|\n",
      "      \\-8\n",
      "Tree before a=3,b=5 4671: \n",
      "\n",
      "   /-7\n",
      "--|\n",
      "  |   /-5\n",
      "   \\-|\n",
      "      \\-8\n",
      "Tree after a=3,b=5 4671: \n",
      "\n",
      "   /-7\n",
      "--|\n",
      "  |   /-8\n",
      "   \\-|\n",
      "     |   /-3\n",
      "      \\-|\n",
      "         \\-5\n",
      "Tree before a=1,b=3 2985: \n",
      "\n",
      "   /-7\n",
      "--|\n",
      "  |   /-8\n",
      "   \\-|\n",
      "     |   /-3\n",
      "      \\-|\n",
      "         \\-5\n",
      "Tree after a=1,b=3 2985: \n",
      "\n",
      "   /-7\n",
      "--|\n",
      "  |   /-8\n",
      "   \\-|\n",
      "     |   /-5\n",
      "      \\-|\n",
      "        |   /-1\n",
      "         \\-|\n",
      "            \\-3\n",
      "\n",
      "   /-7\n",
      "--|\n",
      "  |   /-8\n",
      "   \\-|\n",
      "     |   /-5\n",
      "      \\-|\n",
      "        |   /-1\n",
      "         \\-|\n",
      "            \\-3\n"
     ]
    }
   ],
   "source": [
    "###\n",
    "### Not cleaned up.\n",
    "###\n",
    "\n",
    "import ete3 as ete\n",
    "\n",
    "def make_cherry_of(a,b):\n",
    "    \"Get a cherry tree out of both items.\"\n",
    "    cherry = ete.Tree()\n",
    "    cherry.add_child(name=a)\n",
    "    cherry.add_child(name=b)\n",
    "    return cherry\n",
    "# ---\n",
    "\n",
    "def infer_clocklike_tree_from(sequences):\n",
    "    \"Assume the sequences evolved in a clocklike CFN model, infer the tree.\"\n",
    "    if len(sequences) == 2:\n",
    "        # Return a cherry tree\n",
    "        cherry = make_cherry_of(*sequences)\n",
    "        return cherry\n",
    "    else:\n",
    "        # Find closest taxa in S\n",
    "        distances = pairwise_distances(sequences)\n",
    "        a,b = min(distances, key=lambda x: distances[x])\n",
    "        print(a,b, distances[(a,b)])\n",
    "        # Recurse on (sequences \\ a)\n",
    "        chopped = {k:v for k,v in sequences.items() if k != a}\n",
    "        tree = infer_clocklike_tree_from(chopped)\n",
    "        print(f\"Tree before a={a},b={b} {distances[(a,b)]}: \\n{tree}\")\n",
    "        # Find the node corresponding to b and as a as sibling\n",
    "        b_node = tree.search_nodes(name=b)[0]\n",
    "        b_parent = b_node.up\n",
    "        # Detach from the parent\n",
    "        b_node.detach()\n",
    "        # Make a new cherry out of a and b\n",
    "        # and attach it in place of b\n",
    "        cherry = make_cherry_of(a,b)\n",
    "        b_parent.add_child(cherry)\n",
    "        print(f\"Tree after a={a},b={b} {distances[(a,b)]}: \\n{tree}\")\n",
    "        return tree\n",
    "# ---\n",
    "\n",
    "t = infer_clocklike_tree_from(sequences)\n",
    "print(t)"
   ]
  },
  {
   "cell_type": "code",
   "execution_count": 351,
   "metadata": {},
   "outputs": [
    {
     "name": "stdout",
     "output_type": "stream",
     "text": [
      "\n",
      "   /-7\n",
      "--|\n",
      "  |   /-8\n",
      "   \\-|\n",
      "     |   /-5\n",
      "      \\-|\n",
      "        |   /-1\n",
      "         \\-|\n",
      "            \\-3\n"
     ]
    }
   ],
   "source": [
    "\"\"\"\n",
    "\"An assumption that is sometimes made is that sequence \n",
    "evolution is clocklike (also referred to as obeying \n",
    "the strict molecular clock), which means that the \n",
    "expected number of changes is proportional to time. \n",
    "If we assume that the leaves represent extant (i.e., \n",
    "living) species, then under the assumption of a \n",
    "strict molecular clock, the total expected number of \n",
    "changes from the root to any leaf is the same. Under \n",
    "the assumption of a strict molecular clock, the matrix \n",
    "of expected distances between the leaves in the tree \n",
    "has properties that make it “ultrametric”.\"\n",
    "\n",
    "    -- From the book.\n",
    "\"\"\"\n",
    "\n",
    "import ete3 as ete\n",
    "\n",
    "def make_cherry_of(a,b):\n",
    "    \"Get a cherry tree out of both items.\"\n",
    "    cherry = ete.Tree()\n",
    "    cherry.add_child(name=a)\n",
    "    cherry.add_child(name=b)\n",
    "    return cherry\n",
    "# ---\n",
    "\n",
    "def infer_clocklike_tree_from(sequences):\n",
    "    \"Assume the sequences evolved in a clocklike CFN model, infer the tree.\"\n",
    "    if len(sequences) == 2:\n",
    "        # Return a cherry tree\n",
    "        cherry = make_cherry_of(*sequences)\n",
    "        return cherry\n",
    "    else:\n",
    "        # Find closest taxa in S\n",
    "        distances = pairwise_distances(sequences, binary_distance)\n",
    "        a,b = min(distances, key=lambda x: distances[x])\n",
    "        # Recurse on (sequences \\ a)\n",
    "        chopped = {k:v for k,v in sequences.items() if k != a}\n",
    "        tree = infer_clocklike_tree_from(chopped)\n",
    "        # Find the node corresponding to b and add a as sibling\n",
    "        b_node = tree.search_nodes(name=b)[0]\n",
    "        b_parent = b_node.up\n",
    "        # Detach from the parent\n",
    "        b_node.detach()\n",
    "        # Make a new cherry out of a and b\n",
    "        # and attach it in place of b\n",
    "        cherry = make_cherry_of(a,b)\n",
    "        b_parent.add_child(cherry)\n",
    "        return tree\n",
    "# ---\n",
    "\n",
    "t = infer_clocklike_tree_from(sequences)\n",
    "print(t)"
   ]
  },
  {
   "cell_type": "code",
   "execution_count": 352,
   "metadata": {},
   "outputs": [
    {
     "data": {
      "image/png": "[encoded data removed]",
      "text/plain": [
       "<IPython.core.display.Image object>"
      ]
     },
     "execution_count": 352,
     "metadata": {},
     "output_type": "execute_result"
    }
   ],
   "source": [
    "cfn.render('%%inline')"
   ]
  },
  {
   "cell_type": "markdown",
   "metadata": {},
   "source": [
    "## Application: Clocklike reconstruction in a cell system"
   ]
  },
  {
   "cell_type": "code",
   "execution_count": 357,
   "metadata": {},
   "outputs": [
    {
     "name": "stdout",
     "output_type": "stream",
     "text": [
      "New cell 0 added @ (5, 5)\n",
      "Cell no. 0 mutating @ site (5, 5) (father None)\n",
      "\t\t Initial mutations: []\n",
      "                \t Initial genome: AAAAAAAAAA\n",
      "\t\t Final mutations: [(7, 'T')]\n",
      "                \t Final genome: AAAAAAATAA\n",
      "Cell no. 0 migrating from site (5, 5) (father None)\n",
      "\t New site: (4, 6)\n",
      "Cell no. 0 migrating from site (4, 6) (father None)\n",
      "\t New site: (3, 6)\n",
      "Cell no. 0 mutating @ site (3, 6) (father None)\n",
      "\t\t Initial mutations: [(7, 'T')]\n",
      "                \t Initial genome: AAAAAAATAA\n",
      "\t\t Final mutations: [(7, 'T'), (2, 'T')]\n",
      "                \t Final genome: AATAAAATAA\n",
      "Cell no. 0 dividing @ (3, 6)\n",
      "\tNew cells: 2 @ (2, 7) and 1 @ (4, 7)\n",
      "Cell no. 1 migrating from site (4, 7) (father None)\n",
      "\t New site: (5, 6)\n",
      "Cell no. 2 mutating @ site (2, 7) (father 0)\n",
      "\t\t Initial mutations: [(7, 'T'), (2, 'T')]\n",
      "                \t Initial genome: AATAAAATAA\n",
      "\t\t Final mutations: [(7, 'T'), (2, 'T'), (9, 'T')]\n",
      "                \t Final genome: AATAAAATAT\n",
      "Cell no. 1 mutating @ site (5, 6) (father None)\n",
      "\t\t Initial mutations: [(7, 'T'), (2, 'T')]\n",
      "                \t Initial genome: AATAAAATAA\n",
      "\t\t Final mutations: [(7, 'T'), (2, 'T'), (4, 'C')]\n",
      "                \t Final genome: AATACAATAA\n",
      "Cell no. 1 mutating @ site (5, 6) (father None)\n",
      "\t\t Initial mutations: [(7, 'T'), (2, 'T'), (4, 'C')]\n",
      "                \t Initial genome: AATACAATAA\n",
      "\t\t Final mutations: [(7, 'T'), (2, 'T'), (4, 'C'), (4, 'G')]\n",
      "                \t Final genome: AATAGAATAA\n",
      "Cell no. 2 migrating from site (2, 7) (father 0)\n",
      "\t New site: (3, 8)\n",
      "Cell no. 2 dividing @ (3, 8)\n",
      "\tNew cells: 4 @ (3, 7) and 3 @ (2, 8)\n",
      "Cell no. 1 death @ site (5, 6) (father None)\n",
      "Cell no. 4 mutating @ site (3, 7) (father 2)\n",
      "\t\t Initial mutations: [(7, 'T'), (2, 'T'), (9, 'T')]\n",
      "                \t Initial genome: AATAAAATAT\n",
      "\t\t Final mutations: [(7, 'T'), (2, 'T'), (9, 'T'), (0, 'C')]\n",
      "                \t Final genome: CATAAAATAT\n",
      "Cell no. 3 death @ site (2, 8) (father 2)\n",
      "Cell no. 4 dividing @ (3, 7)\n",
      "\tNew cells: 6 @ (3, 8) and 5 @ (3, 7)\n",
      "Cell no. 6 dividing @ (3, 8)\n",
      "\tNew cells: 8 @ (3, 8) and 7 @ (4, 9)\n",
      "Cell no. 5 mutating @ site (3, 7) (father 4)\n",
      "\t\t Initial mutations: [(7, 'T'), (2, 'T'), (9, 'T'), (0, 'C')]\n",
      "                \t Initial genome: CATAAAATAT\n",
      "\t\t Final mutations: [(7, 'T'), (2, 'T'), (9, 'T'), (0, 'C'), (7, 'C')]\n",
      "                \t Final genome: CATAAAACAT\n",
      "Cell no. 7 mutating @ site (4, 9) (father 6)\n",
      "\t\t Initial mutations: [(7, 'T'), (2, 'T'), (9, 'T'), (0, 'C')]\n",
      "                \t Initial genome: CATAAAATAT\n",
      "\t\t Final mutations: [(7, 'T'), (2, 'T'), (9, 'T'), (0, 'C'), (4, 'A')]\n",
      "                \t Final genome: CATAAAATAT\n",
      "Cell no. 8 dividing @ (3, 8)\n",
      "\tNew cells: 10 @ (3, 7) and 9 @ (2, 9)\n",
      "Cell no. 5 dividing @ (3, 7)\n",
      "\tNew cells: 12 @ (2, 8) and 11 @ (3, 7)\n",
      "Cell no. 11 mutating @ site (3, 7) (father 5)\n",
      "\t\t Initial mutations: [(7, 'T'), (2, 'T'), (9, 'T'), (0, 'C'), (7, 'C')]\n",
      "                \t Initial genome: CATAAAACAT\n",
      "\t\t Final mutations: [(7, 'T'), (2, 'T'), (9, 'T'), (0, 'C'), (7, 'C'), (4, 'A')]\n",
      "                \t Final genome: CATAAAACAT\n",
      "Cell no. 9 mutating @ site (2, 9) (father 8)\n",
      "\t\t Initial mutations: [(7, 'T'), (2, 'T'), (9, 'T'), (0, 'C')]\n",
      "                \t Initial genome: CATAAAATAT\n",
      "\t\t Final mutations: [(7, 'T'), (2, 'T'), (9, 'T'), (0, 'C'), (9, 'A')]\n",
      "                \t Final genome: CATAAAATAA\n",
      "Cell no. 7 death @ site (4, 9) (father 6)\n",
      "Cell no. 12 dividing @ (2, 8)\n",
      "\tNew cells: 14 @ (3, 7) and 13 @ (3, 7)\n",
      "Cell no. 10 mutating @ site (3, 7) (father 8)\n",
      "\t\t Initial mutations: [(7, 'T'), (2, 'T'), (9, 'T'), (0, 'C')]\n",
      "                \t Initial genome: CATAAAATAT\n",
      "\t\t Final mutations: [(7, 'T'), (2, 'T'), (9, 'T'), (0, 'C'), (7, 'G')]\n",
      "                \t Final genome: CATAAAAGAT\n",
      "Cell no. 14 dividing @ (3, 7)\n",
      "\tNew cells: 16 @ (4, 6) and 15 @ (3, 7)\n",
      "Cell no. 13 migrating from site (3, 7) (father 12)\n",
      "\t New site: (4, 8)\n",
      "Cell no. 11 migrating from site (3, 7) (father 5)\n",
      "\t New site: (3, 6)\n",
      "Cell no. 10 mutating @ site (3, 7) (father 8)\n",
      "\t\t Initial mutations: [(7, 'T'), (2, 'T'), (9, 'T'), (0, 'C'), (7, 'G')]\n",
      "                \t Initial genome: CATAAAAGAT\n",
      "\t\t Final mutations: [(7, 'T'), (2, 'T'), (9, 'T'), (0, 'C'), (7, 'G'), (5, 'T')]\n",
      "                \t Final genome: CATAATAGAT\n",
      "Cell no. 9 migrating from site (2, 9) (father 8)\n",
      "\t New site: (3, 0)\n",
      "Cell no. 16 dividing @ (4, 6)\n",
      "\tNew cells: 18 @ (5, 7) and 17 @ (4, 6)\n",
      "Cell no. 11 dividing @ (3, 6)\n",
      "\tNew cells: 20 @ (4, 6) and 19 @ (2, 5)\n",
      "Cell no. 10 migrating from site (3, 7) (father 8)\n",
      "\t New site: (3, 6)\n",
      "Cell no. 13 migrating from site (4, 8) (father 12)\n",
      "\t New site: (5, 8)\n"
     ]
    }
   ],
   "source": [
    "from cellsystem import *\n",
    "\n",
    "# The cell system will simulate cell growth\n",
    "# while tracking the steps in that process.\n",
    "system = CellSystem(grid_dimensions=(10, 10))\n",
    "\n",
    "# Initialize the first cell\n",
    "# in the middle of the grid\n",
    "system.seed()\n",
    "\n",
    "\n",
    "# Take 20 steps forward in time\n",
    "system.run(steps=17)"
   ]
  },
  {
   "cell_type": "code",
   "execution_count": 358,
   "metadata": {},
   "outputs": [
    {
     "data": {
      "text/plain": [
       "{9: 'CATAAAATAA',\n",
       " 10: 'CATAATAGAT',\n",
       " 13: 'CATAAAACAT',\n",
       " 15: 'CATAAAACAT',\n",
       " 17: 'CATAAAACAT',\n",
       " 18: 'CATAAAACAT',\n",
       " 19: 'CATAAAACAT',\n",
       " 20: 'CATAAAACAT'}"
      ]
     },
     "execution_count": 358,
     "metadata": {},
     "output_type": "execute_result"
    }
   ],
   "source": [
    "# Fetch the evolved DNA sequences\n",
    "cell_sequences = {cell.index:cell.genome for cell in system['cells'].alive_cells}\n",
    "cell_sequences"
   ]
  },
  {
   "cell_type": "code",
   "execution_count": 359,
   "metadata": {},
   "outputs": [
    {
     "data": {
      "image/png": "[encoded data removed]",
      "text/plain": [
       "<IPython.core.display.Image object>"
      ]
     },
     "execution_count": 359,
     "metadata": {},
     "output_type": "execute_result"
    }
   ],
   "source": [
    "# Look at the real ancestry tree\n",
    "t = system['log'].ancestry(prune_death=True)\n",
    "t.show(inline=True)"
   ]
  },
  {
   "cell_type": "code",
   "execution_count": 360,
   "metadata": {},
   "outputs": [
    {
     "data": {
      "image/png": "[encoded data removed]",
      "text/plain": [
       "<IPython.core.display.Image object>"
      ]
     },
     "execution_count": 360,
     "metadata": {},
     "output_type": "execute_result"
    }
   ],
   "source": [
    "t = infer_clocklike_tree_from(cell_sequences)\n",
    "t.render('%%inline')"
   ]
  },
  {
   "cell_type": "markdown",
   "metadata": {},
   "source": [
    "## Estimating the unrooted CFN tree when evolution is not clocklike"
   ]
  },
  {
   "cell_type": "code",
   "execution_count": 366,
   "metadata": {},
   "outputs": [
    {
     "name": "stdout",
     "output_type": "stream",
     "text": [
      "Node: 1, node probability: 0.48807580134661316, branch length: 1.868019131391573\n",
      "Node: 2, node probability: 0.30118123884176534, branch length: 0.46110721831458207\n",
      "Node: 3, node probability: 0.10850989232047781, branch length: 0.12232392552562638\n",
      "Node: 4, node probability: 0.2310106089620788, branch length: 0.3099680790594053\n",
      "Node: 5, node probability: 0.3695614563382853, branch length: 0.6718529561884975\n",
      "Node: 6, node probability: 0.3645150518116225, branch length: 0.652873773876636\n",
      "Node: 7, node probability: 0.43372809120715405, branch length: 1.010420994732352\n",
      "Node: 8, node probability: 0.27433765954621414, branch length: 0.39778414258609557\n",
      "\n",
      "         /-7\n",
      "      /3|\n",
      "   /1|   \\-8\n",
      "  |  |\n",
      "-0|   \\-4\n",
      "  |\n",
      "  |   /-5\n",
      "   \\2|\n",
      "      \\-6\n"
     ]
    },
    {
     "data": {
      "image/png": "[encoded data removed]",
      "text/plain": [
       "<IPython.core.display.Image object>"
      ]
     },
     "execution_count": 366,
     "metadata": {},
     "output_type": "execute_result"
    }
   ],
   "source": [
    "# Create a new empty tree.\n",
    "cfn = CFN_Tree()\n",
    "\n",
    "# Branch randomly until you have 5 leaves.\n",
    "cfn.populate(5)\n",
    "cfn.render('%%inline')"
   ]
  },
  {
   "cell_type": "code",
   "execution_count": 367,
   "metadata": {},
   "outputs": [
    {
     "data": {
      "image/png": "[encoded data removed]",
      "text/plain": [
       "<IPython.core.display.Image object>"
      ]
     },
     "execution_count": 367,
     "metadata": {},
     "output_type": "execute_result"
    }
   ],
   "source": [
    "sequences = cfn.evolve_traits([1]*1000)\n",
    "t = infer_clocklike_tree_from(sequences)\n",
    "t.render('%%inline')"
   ]
  },
  {
   "cell_type": "code",
   "execution_count": 368,
   "metadata": {},
   "outputs": [
    {
     "data": {
      "image/png": "[encoded data removed]",
      "text/plain": [
       "<IPython.core.display.Image object>"
      ]
     },
     "execution_count": 368,
     "metadata": {},
     "output_type": "execute_result"
    }
   ],
   "source": [
    "sequences = cfn.evolve_traits([1]*100_000)\n",
    "t = infer_clocklike_tree_from(sequences)\n",
    "t.render('%%inline')"
   ]
  },
  {
   "cell_type": "markdown",
   "metadata": {},
   "source": [
    "It can be noted that assumming clocklike evolution converges to a tree whose distances look close to the CNF distances, but with the wrong topology."
   ]
  },
  {
   "cell_type": "code",
   "execution_count": 369,
   "metadata": {},
   "outputs": [
    {
     "name": "stdout",
     "output_type": "stream",
     "text": [
      "[7, 8, 4, 5, 6]\n"
     ]
    },
    {
     "data": {
      "text/plain": [
       "array([[ 0.        ,  1.40820514,  1.442713  ,  4.13372423,  4.11474504],\n",
       "       [ 1.40820514,  0.        ,  0.83007615,  3.52108737,  3.50210819],\n",
       "       [ 1.442713  ,  0.83007615,  0.        ,  3.31094738,  3.2919682 ],\n",
       "       [ 4.13372423,  3.52108737,  3.31094738,  0.        ,  1.32472673],\n",
       "       [ 4.11474504,  3.50210819,  3.2919682 ,  1.32472673,  0.        ]])"
      ]
     },
     "execution_count": 369,
     "metadata": {},
     "output_type": "execute_result"
    }
   ],
   "source": [
    "import itertools as itr\n",
    "import numpy as np\n",
    "\n",
    "def get_leaf_distances(cfn_tree):\n",
    "    \"Get the CFN distances between each pair of leaves.\"\n",
    "    # Fetch the tree's leaves\n",
    "    leaves = cfn_tree.get_leaves()\n",
    "    n = len(leaves)\n",
    "    # Create an empty matrix\n",
    "    distances = np.zeros((n,n))\n",
    "    # Get all pairs of leaves\n",
    "    pairs = itr.combinations(range(n), 2)\n",
    "    # Fill the distance matrix\n",
    "    for i,j in pairs:\n",
    "        d = cfn_tree.get_distance(leaves[i],\n",
    "                                  leaves[j])\n",
    "        distances[i,j] = distances[j,i] = d \n",
    "        \n",
    "    return distances\n",
    "# ---\n",
    "   \n",
    "print([l.name for l in cfn.get_leaves()])\n",
    "get_leaf_distances(cfn)"
   ]
  },
  {
   "cell_type": "markdown",
   "metadata": {},
   "source": [
    "### The four point condition\n",
    "\n",
    "The Four Point Condition is the statement that the two largest values of the three pairwise distance sums on four indices are the same. The Four Point Condition holds for any additive matrix, which allows branch lengths to be zero (as long as they are never negative)"
   ]
  },
  {
   "cell_type": "code",
   "execution_count": 370,
   "metadata": {},
   "outputs": [
    {
     "name": "stdout",
     "output_type": "stream",
     "text": [
      "True\n"
     ]
    },
    {
     "data": {
      "text/plain": [
       "False"
      ]
     },
     "execution_count": 370,
     "metadata": {},
     "output_type": "execute_result"
    }
   ],
   "source": [
    "_fpc_permutations = [(0,1,2,3),\n",
    "                     (0,2,1,3),\n",
    "                     (0,3,1,2)]\n",
    "\n",
    "def fpc_sums(distances, quartet):\n",
    "    \"Return the sum corresponding to the relevant quartet.\"\n",
    "    q = tuple(quartet)\n",
    "    \n",
    "    permutations = [ tuple(q[i] for i in p)\n",
    "                        for p in _fpc_permutations ]\n",
    "    \n",
    "    # Calculate the relevant pairwise sums\n",
    "    sums = { ((i,j), (k,l)): distances[i][j] + distances[k][l]\n",
    "                for i,j,k,l in permutations }\n",
    "    \n",
    "    return sums\n",
    "# ---\n",
    "    \n",
    "\n",
    "def is_additive(distances, tolerance=1e-4):\n",
    "    \"\"\"Is the distances matrix additive?\n",
    "    \n",
    "    Check the four point condition on each four indices of the matrix.\n",
    "    \"\"\"\n",
    "    n = len(distances)\n",
    "    quartets = list(itr.combinations(range(n), 4))\n",
    "    \n",
    "    for q in quartets:\n",
    "        sums = list(fpc_sums(distances, q).values())\n",
    "        # Now, we must verify that the largest one is repeated\n",
    "        s_max = max(sums)\n",
    "        if sum( (s_max-s)**2 < tolerance for s in sums) < 2:\n",
    "            # It is only once\n",
    "            return False\n",
    "        \n",
    "    return True\n",
    "# ---   \n",
    "\n",
    "distances = get_leaf_distances(cfn)\n",
    "\n",
    "print(is_additive(distances))\n",
    "\n",
    "distances[2][3] += 1\n",
    "is_additive(distances)"
   ]
  },
  {
   "cell_type": "markdown",
   "metadata": {},
   "source": [
    "### The four point method"
   ]
  },
  {
   "cell_type": "code",
   "execution_count": 371,
   "metadata": {},
   "outputs": [],
   "source": [
    "# A test matrix to test the four-point method\n",
    "additive = np.array([[0, 3,  6,  7],\n",
    "                     [3, 0,  7,  6],\n",
    "                     [6, 7,  0, 11],\n",
    "                     [7, 6, 11,  0]])\n",
    "leaves = ['L1', 'L2', 'L3', 'L4']"
   ]
  },
  {
   "cell_type": "code",
   "execution_count": 372,
   "metadata": {},
   "outputs": [
    {
     "name": "stdout",
     "output_type": "stream",
     "text": [
      "The matrix: \n",
      "[[ 0  3  6  7]\n",
      " [ 3  0  7  6]\n",
      " [ 6  7  0 11]\n",
      " [ 7  6 11  0]] is additive.\n",
      "\n",
      "The associated tree is: \n",
      "      /-L1\n",
      "   /-|\n",
      "  |   \\-L3\n",
      "--|\n",
      "  |   /-L2\n",
      "   \\-|\n",
      "      \\-L4\n"
     ]
    }
   ],
   "source": [
    "def induced_quartet(dist_matrix, items=None):\n",
    "    \"\"\"Get the induced quartet ordering of 4 items.\"\"\"\n",
    "    # Preprocess arguments\n",
    "    if items is None:\n",
    "        items = range(4) # The first 4 elements\n",
    "    i = tuple(items)\n",
    "    \n",
    "    # Calculate the relevant pairwise sums\n",
    "    sums = fpc_sums(dist_matrix, i)\n",
    "    # Get the quartet with smallest sum\n",
    "    quartet = min(sums, key=lambda x:sums[x])\n",
    "    \n",
    "    return quartet\n",
    "# ---\n",
    "\n",
    "def join_trees(a, b):\n",
    "    \"Make a 'cherry' of the two trees a and b.\"\n",
    "    # Assemble the treee\n",
    "    tree = Tree()\n",
    "    tree.add_child(a)\n",
    "    tree.add_child(b)\n",
    "    \n",
    "    return tree\n",
    "# ---\n",
    "\n",
    "def quartet_to_tree(quartet, names=None):\n",
    "    \"Transform the quartet structure to a tree.\"\n",
    "    # Disassemble the quartet structure\n",
    "    ((a,b),(c,d)) = quartet\n",
    "    if names is None:\n",
    "        names = { i:i for i in [a,b,c,d] }\n",
    "    # Assemble the pairs of siblings\n",
    "    ab_cherry = make_cherry_of(names[a],names[b])\n",
    "    cd_cherry = make_cherry_of(names[c],names[d])\n",
    "    # Assemble the subtrees\n",
    "    quartet_tree = join_trees(ab_cherry, cd_cherry)\n",
    "    \n",
    "    return quartet_tree\n",
    "# ---\n",
    "\n",
    "def map_names_to_quartet(quartet, names=None):\n",
    "    \"Map the names to the quartet's indices.\"\n",
    "    if names:\n",
    "        ((a,b),(c,d)) = quartet\n",
    "\n",
    "        return ((names[a],names[b]), (names[c],names[d]))\n",
    "    else:\n",
    "        return quartet\n",
    "# ---\n",
    "\n",
    "def four_point_method(additive, names=None):\n",
    "    \"Method for inferring a tree from a 4x4 additive matrix.\"\n",
    "    # Calculate the quartet inferred by the distances\n",
    "    quartet = induced_quartet(additive)\n",
    "    # Assemble the quartet into a tree structure\n",
    "    tree = quartet_to_tree(quartet, names)\n",
    "    \n",
    "    return tree\n",
    "# ---\n",
    "\n",
    "if is_additive(additive):\n",
    "    print(f\"The matrix: \\n{additive} is additive.\\n\")\n",
    "    \n",
    "tree = four_point_method(additive, names=leaves)\n",
    "print(f\"The associated tree is: {tree}\")"
   ]
  },
  {
   "cell_type": "code",
   "execution_count": 373,
   "metadata": {},
   "outputs": [
    {
     "data": {
      "text/plain": [
       "(('L1', 'L3'), ('L2', 'L4'))"
      ]
     },
     "execution_count": 373,
     "metadata": {},
     "output_type": "execute_result"
    }
   ],
   "source": [
    "q = induced_quartet(additive)\n",
    "map_names_to_quartet(q, leaves)"
   ]
  },
  {
   "cell_type": "markdown",
   "metadata": {},
   "source": [
    "### All quartets method"
   ]
  },
  {
   "cell_type": "code",
   "execution_count": 444,
   "metadata": {},
   "outputs": [
    {
     "data": {
      "text/plain": [
       "(array([[ 0.        ,  1.40820514,  1.442713  ,  4.13372423,  4.11474504],\n",
       "        [ 1.40820514,  0.        ,  0.83007615,  3.52108737,  3.50210819],\n",
       "        [ 1.442713  ,  0.83007615,  0.        ,  3.31094738,  3.2919682 ],\n",
       "        [ 4.13372423,  3.52108737,  3.31094738,  0.        ,  1.32472673],\n",
       "        [ 4.11474504,  3.50210819,  3.2919682 ,  1.32472673,  0.        ]]),\n",
       " [7, 8, 4, 5, 6])"
      ]
     },
     "execution_count": 444,
     "metadata": {},
     "output_type": "execute_result"
    }
   ],
   "source": [
    "d = get_leaf_distances(cfn)\n",
    "d, [l.name for l in cfn.get_leaves()]"
   ]
  },
  {
   "cell_type": "code",
   "execution_count": 443,
   "metadata": {
    "scrolled": false
   },
   "outputs": [
    {
     "data": {
      "text/plain": [
       "[((7, 8), (4, 5)),\n",
       " ((7, 8), (4, 6)),\n",
       " ((7, 8), (5, 6)),\n",
       " ((7, 4), (5, 6)),\n",
       " ((8, 4), (5, 6))]"
      ]
     },
     "execution_count": 443,
     "metadata": {},
     "output_type": "execute_result"
    }
   ],
   "source": [
    "def all_quartets(dist_matrix, names=None):\n",
    "    \"Get all quartet subtrees.\"\n",
    "    n = len(dist_matrix)\n",
    "    quartets = itr.combinations(range(n), 4)\n",
    "    \n",
    "    return [map_names_to_quartet(induced_quartet(dist_matrix,q), \n",
    "                                 names)\n",
    "             for q in quartets]\n",
    "# ---\n",
    "\n",
    "all_quartets(d, names=[l.name for l in cfn.get_leaves()])"
   ]
  },
  {
   "cell_type": "code",
   "execution_count": 375,
   "metadata": {},
   "outputs": [
    {
     "data": {
      "text/plain": [
       "[{5, 6}, {7, 8}]"
      ]
     },
     "execution_count": 375,
     "metadata": {},
     "output_type": "execute_result"
    }
   ],
   "source": [
    "quartets = all_quartets(d, names=[l.name for l in cfn.get_leaves()])\n",
    "\n",
    "def infer_siblings(quartets):\n",
    "    \"\"\"From the tree quartets, infer pairs of sibling leafs.\n",
    "    \n",
    "    We search for a pair x,y of leaves that is always \n",
    "    together in any quartet that contains both x and y. \n",
    "    (In other words, for all a,b, any quartet on {x ,y ,a ,b} \n",
    "    is ((x,y),(a,b))). Any pair of leaves that are siblings \n",
    "    in the quartets tree T will satisfy this property.\n",
    "    \"\"\"\n",
    "    together = set()\n",
    "    separated = set()\n",
    "    \n",
    "    for q in quartets:\n",
    "        quartet = { frozenset(pair) for pair in q }\n",
    "\n",
    "        together |= quartet\n",
    "\n",
    "        ((a,b), (c,d)) = q\n",
    "        separated |= { frozenset(i) \n",
    "                          for i in [(a,c), (a,d), \n",
    "                                    (b,c), (b,d)] }\n",
    "\n",
    "    return [set(pair) for pair in together - separated]\n",
    "# ---\n",
    "\n",
    "infer_siblings(quartets)"
   ]
  },
  {
   "cell_type": "code",
   "execution_count": 376,
   "metadata": {
    "scrolled": true
   },
   "outputs": [
    {
     "name": "stdout",
     "output_type": "stream",
     "text": [
      "\n",
      "      /-4\n",
      "   /-|\n",
      "  |  |   /-8\n",
      "  |   \\-|\n",
      "--|      \\-7\n",
      "  |\n",
      "  |   /-5\n",
      "   \\-|\n",
      "      \\-6\n"
     ]
    },
    {
     "data": {
      "image/png": "[encoded data removed]",
      "text/plain": [
       "<IPython.core.display.Image object>"
      ]
     },
     "execution_count": 376,
     "metadata": {},
     "output_type": "execute_result"
    }
   ],
   "source": [
    "def add_as_sibling(a,b,tree):\n",
    "    \"Add leaf a as sibling of b in the given tree.\"\n",
    "    # Find the node corresponding to b and add a as sibling\n",
    "    b_node = tree.search_nodes(name=b)[0]\n",
    "    b_parent = b_node.up\n",
    "    # Detach from the parent\n",
    "    b_node.detach()\n",
    "    # Make a new cherry out of a and b\n",
    "    # and attach it in place of b\n",
    "    cherry = make_cherry_of(a,b)\n",
    "    b_parent.add_child(cherry)\n",
    "    return tree\n",
    "# ---\n",
    "\n",
    "def all_quartets_method(quartets):\n",
    "    \"From the given quartets, assemble the tree.\"\n",
    "    if len(quartets) == 1:\n",
    "        q = quartets[0]\n",
    "        return quartet_to_tree(q)\n",
    "    else:\n",
    "        # Fetch a pair of sibling leafs\n",
    "        a,b = list(infer_siblings(quartets).pop())\n",
    "            \n",
    "        new_quartets = [q for q in quartets if (a not in q[0]) and (a not in q[-1])]\n",
    "        \n",
    "        # Recourse in quartets \\ {a}\n",
    "        tree = all_quartets_method(new_quartets)\n",
    "        # Add a as sibling of b\n",
    "        tree = add_as_sibling(a,b,tree)\n",
    "        return tree\n",
    "        \n",
    "print(all_quartets_method(quartets))\n",
    "all_quartets_method(quartets).render('%%inline')"
   ]
  },
  {
   "cell_type": "code",
   "execution_count": 377,
   "metadata": {},
   "outputs": [
    {
     "data": {
      "image/png": "[encoded data removed]",
      "text/plain": [
       "<IPython.core.display.Image object>"
      ]
     },
     "execution_count": 377,
     "metadata": {},
     "output_type": "execute_result"
    }
   ],
   "source": [
    "cfn.render('%%inline')"
   ]
  },
  {
   "cell_type": "markdown",
   "metadata": {},
   "source": [
    "Looks good! Now, let's test how it performs with the distance matrix approximated from the sequences"
   ]
  },
  {
   "cell_type": "code",
   "execution_count": 424,
   "metadata": {},
   "outputs": [
    {
     "data": {
      "text/plain": [
       "array([[     0.,  50397.,  49862.,  49808.,  50122.],\n",
       "       [ 50397.,      0.,  50037.,  49995.,  49969.],\n",
       "       [ 49862.,  50037.,      0.,  49806.,  49720.],\n",
       "       [ 49808.,  49995.,  49806.,      0.,  49286.],\n",
       "       [ 50122.,  49969.,  49720.,  49286.,      0.]])"
      ]
     },
     "execution_count": 424,
     "metadata": {},
     "output_type": "execute_result"
    }
   ],
   "source": [
    "def distance_matrix(sequences, distance_fn=simpledistance):\n",
    "    \"Calculate the distance matrix of the given sequences.\"\n",
    "    n = len(sequences)\n",
    "    d = pairwise_distances(sequences, distance_fn)\n",
    "    \n",
    "    # Transform to a matrix\n",
    "    names = tuple(sequences.keys())\n",
    "    to_indices = { names[i]:i for i in range(n) }\n",
    "    mtx = np.zeros( (n,n) )\n",
    "    for a,b in d:\n",
    "        i,j = to_indices[a], to_indices[b]\n",
    "        mtx[i,j] = mtx[j,i] = d[(a,b)]\n",
    "    \n",
    "    return mtx\n",
    "# ---\n",
    "k = 100_000 # Sequence length\n",
    "sequences = cfn.evolve_traits([1]*k)\n",
    "distances = distance_matrix(sequences)\n",
    "distances"
   ]
  },
  {
   "cell_type": "code",
   "execution_count": 425,
   "metadata": {},
   "outputs": [
    {
     "data": {
      "text/plain": [
       "False"
      ]
     },
     "execution_count": 425,
     "metadata": {},
     "output_type": "execute_result"
    }
   ],
   "source": [
    "is_additive(distances)"
   ]
  },
  {
   "cell_type": "code",
   "execution_count": 428,
   "metadata": {},
   "outputs": [
    {
     "name": "stdout",
     "output_type": "stream",
     "text": [
      "The inferred tree: \n",
      "      /-7\n",
      "   /-|\n",
      "  |   \\-4\n",
      "--|\n",
      "  |   /-8\n",
      "   \\-|\n",
      "     |   /-5\n",
      "      \\-|\n",
      "         \\-6\n"
     ]
    },
    {
     "data": {
      "image/png": "[encoded data removed]",
      "text/plain": [
       "<IPython.core.display.Image object>"
      ]
     },
     "execution_count": 428,
     "metadata": {},
     "output_type": "execute_result"
    }
   ],
   "source": [
    "leaves = [l.name for l in cfn.get_leaves()]\n",
    "\n",
    "quartets = all_quartets(distances, names=leaves)\n",
    "\n",
    "tree = all_quartets_method(quartets)\n",
    "print(f\"The inferred tree: {tree}\")\n",
    "tree.render('%%inline')"
   ]
  },
  {
   "cell_type": "code",
   "execution_count": 429,
   "metadata": {},
   "outputs": [
    {
     "data": {
      "image/png": "[encoded data removed]",
      "text/plain": [
       "<IPython.core.display.Image object>"
      ]
     },
     "execution_count": 429,
     "metadata": {},
     "output_type": "execute_result"
    }
   ],
   "source": [
    "cfn.render('%%inline')"
   ]
  },
  {
   "cell_type": "markdown",
   "metadata": {},
   "source": [
    "As we can see, the raw distances are a clocklike assumption of the real tree distances."
   ]
  },
  {
   "cell_type": "markdown",
   "metadata": {},
   "source": [
    "#### Treating the distances with the CFN distance correction"
   ]
  },
  {
   "cell_type": "code",
   "execution_count": 430,
   "metadata": {},
   "outputs": [],
   "source": [
    "cfn_corrected = -np.log(1-2*distances/(1.1*k)) / 2"
   ]
  },
  {
   "cell_type": "code",
   "execution_count": 431,
   "metadata": {},
   "outputs": [
    {
     "data": {
      "text/plain": [
       "False"
      ]
     },
     "execution_count": 431,
     "metadata": {},
     "output_type": "execute_result"
    }
   ],
   "source": [
    "is_additive(cfn_corrected)"
   ]
  },
  {
   "cell_type": "code",
   "execution_count": 432,
   "metadata": {},
   "outputs": [
    {
     "name": "stdout",
     "output_type": "stream",
     "text": [
      "The inferred tree: \n",
      "      /-7\n",
      "   /-|\n",
      "  |   \\-4\n",
      "--|\n",
      "  |   /-8\n",
      "   \\-|\n",
      "     |   /-5\n",
      "      \\-|\n",
      "         \\-6\n"
     ]
    },
    {
     "data": {
      "image/png": "[encoded data removed]",
      "text/plain": [
       "<IPython.core.display.Image object>"
      ]
     },
     "execution_count": 432,
     "metadata": {},
     "output_type": "execute_result"
    }
   ],
   "source": [
    "leaves = [l.name for l in cfn.get_leaves()]\n",
    "\n",
    "quartets = all_quartets(cfn_corrected, names=leaves)\n",
    "\n",
    "tree = all_quartets_method(quartets)\n",
    "print(f\"The inferred tree: {tree}\")\n",
    "tree.render('%%inline')"
   ]
  },
  {
   "cell_type": "code",
   "execution_count": 433,
   "metadata": {},
   "outputs": [
    {
     "data": {
      "image/png": "[encoded data removed]",
      "text/plain": [
       "<IPython.core.display.Image object>"
      ]
     },
     "execution_count": 433,
     "metadata": {},
     "output_type": "execute_result"
    }
   ],
   "source": [
    "cfn.render('%%inline')"
   ]
  },
  {
   "cell_type": "markdown",
   "metadata": {},
   "source": [
    "### Application to a cell system"
   ]
  },
  {
   "cell_type": "code",
   "execution_count": 434,
   "metadata": {},
   "outputs": [
    {
     "name": "stdout",
     "output_type": "stream",
     "text": [
      "{9: 'CATAAAATAA', 18: 'CATAAAACAT', 17: 'CATAAAACAT', 15: 'CATAAAACAT', 10: 'CATAATAGAT', 20: 'CATAAAACAT', 13: 'CATAAAACAT', 19: 'CATAAAACAT'}\n"
     ]
    },
    {
     "data": {
      "text/plain": [
       "array([[ 0.,  2.,  2.,  2.,  3.,  2.,  2.,  2.],\n",
       "       [ 2.,  0.,  0.,  0.,  2.,  0.,  0.,  0.],\n",
       "       [ 2.,  0.,  0.,  0.,  2.,  0.,  0.,  0.],\n",
       "       [ 2.,  0.,  0.,  0.,  2.,  0.,  0.,  0.],\n",
       "       [ 3.,  2.,  2.,  2.,  0.,  2.,  2.,  2.],\n",
       "       [ 2.,  0.,  0.,  0.,  2.,  0.,  0.,  0.],\n",
       "       [ 2.,  0.,  0.,  0.,  2.,  0.,  0.,  0.],\n",
       "       [ 2.,  0.,  0.,  0.,  2.,  0.,  0.,  0.]])"
      ]
     },
     "execution_count": 434,
     "metadata": {},
     "output_type": "execute_result"
    }
   ],
   "source": [
    "print(cell_sequences)\n",
    "\n",
    "m = distance_matrix(cell_sequences)    \n",
    "m"
   ]
  },
  {
   "cell_type": "code",
   "execution_count": 435,
   "metadata": {},
   "outputs": [
    {
     "data": {
      "text/plain": [
       "True"
      ]
     },
     "execution_count": 435,
     "metadata": {},
     "output_type": "execute_result"
    }
   ],
   "source": [
    "is_additive(m)"
   ]
  },
  {
   "cell_type": "code",
   "execution_count": 436,
   "metadata": {
    "scrolled": true
   },
   "outputs": [
    {
     "data": {
      "text/plain": [
       "[((9, 18), (17, 15)),\n",
       " ((9, 10), (18, 17)),\n",
       " ((9, 18), (17, 20)),\n",
       " ((9, 18), (17, 13)),\n",
       " ((9, 18), (17, 19)),\n",
       " ((9, 10), (18, 15)),\n",
       " ((9, 18), (15, 20)),\n",
       " ((9, 18), (15, 13)),\n",
       " ((9, 18), (15, 19)),\n",
       " ((9, 10), (18, 20)),\n",
       " ((9, 10), (18, 13)),\n",
       " ((9, 10), (18, 19)),\n",
       " ((9, 18), (20, 13)),\n",
       " ((9, 18), (20, 19)),\n",
       " ((9, 18), (13, 19)),\n",
       " ((9, 10), (17, 15)),\n",
       " ((9, 17), (15, 20)),\n",
       " ((9, 17), (15, 13)),\n",
       " ((9, 17), (15, 19)),\n",
       " ((9, 10), (17, 20)),\n",
       " ((9, 10), (17, 13)),\n",
       " ((9, 10), (17, 19)),\n",
       " ((9, 17), (20, 13)),\n",
       " ((9, 17), (20, 19)),\n",
       " ((9, 17), (13, 19)),\n",
       " ((9, 10), (15, 20)),\n",
       " ((9, 10), (15, 13)),\n",
       " ((9, 10), (15, 19)),\n",
       " ((9, 15), (20, 13)),\n",
       " ((9, 15), (20, 19)),\n",
       " ((9, 15), (13, 19)),\n",
       " ((9, 10), (20, 13)),\n",
       " ((9, 10), (20, 19)),\n",
       " ((9, 10), (13, 19)),\n",
       " ((9, 20), (13, 19)),\n",
       " ((18, 17), (15, 10)),\n",
       " ((18, 17), (15, 20)),\n",
       " ((18, 17), (15, 13)),\n",
       " ((18, 17), (15, 19)),\n",
       " ((18, 17), (10, 20)),\n",
       " ((18, 17), (10, 13)),\n",
       " ((18, 17), (10, 19)),\n",
       " ((18, 17), (20, 13)),\n",
       " ((18, 17), (20, 19)),\n",
       " ((18, 17), (13, 19)),\n",
       " ((18, 15), (10, 20)),\n",
       " ((18, 15), (10, 13)),\n",
       " ((18, 15), (10, 19)),\n",
       " ((18, 15), (20, 13)),\n",
       " ((18, 15), (20, 19)),\n",
       " ((18, 15), (13, 19)),\n",
       " ((18, 10), (20, 13)),\n",
       " ((18, 10), (20, 19)),\n",
       " ((18, 10), (13, 19)),\n",
       " ((18, 20), (13, 19)),\n",
       " ((17, 15), (10, 20)),\n",
       " ((17, 15), (10, 13)),\n",
       " ((17, 15), (10, 19)),\n",
       " ((17, 15), (20, 13)),\n",
       " ((17, 15), (20, 19)),\n",
       " ((17, 15), (13, 19)),\n",
       " ((17, 10), (20, 13)),\n",
       " ((17, 10), (20, 19)),\n",
       " ((17, 10), (13, 19)),\n",
       " ((17, 20), (13, 19)),\n",
       " ((15, 10), (20, 13)),\n",
       " ((15, 10), (20, 19)),\n",
       " ((15, 10), (13, 19)),\n",
       " ((15, 20), (13, 19)),\n",
       " ((10, 20), (13, 19))]"
      ]
     },
     "execution_count": 436,
     "metadata": {},
     "output_type": "execute_result"
    }
   ],
   "source": [
    "cell_q = all_quartets(m, names=list(cell_sequences.keys()))\n",
    "cell_q"
   ]
  },
  {
   "cell_type": "code",
   "execution_count": 441,
   "metadata": {},
   "outputs": [
    {
     "data": {
      "image/png": "[encoded data removed]",
      "text/plain": [
       "<IPython.core.display.Image object>"
      ]
     },
     "execution_count": 441,
     "metadata": {},
     "output_type": "execute_result"
    }
   ],
   "source": [
    "all_quartets_method(cell_q).render(\"%%inline\")"
   ]
  },
  {
   "cell_type": "code",
   "execution_count": 439,
   "metadata": {},
   "outputs": [
    {
     "data": {
      "image/png": "[encoded data removed]",
      "text/plain": [
       "<IPython.core.display.Image object>"
      ]
     },
     "execution_count": 439,
     "metadata": {},
     "output_type": "execute_result"
    }
   ],
   "source": [
    "# Look at the real ancestry tree\n",
    "t = system['log'].ancestry(prune_death=True)\n",
    "t.show(inline=True)"
   ]
  },
  {
   "cell_type": "code",
   "execution_count": null,
   "metadata": {},
   "outputs": [],
   "source": []
  }
 ],
 "metadata": {
  "kernelspec": {
   "display_name": "Python 3",
   "language": "python",
   "name": "python3"
  },
  "language_info": {
   "codemirror_mode": {
    "name": "ipython",
    "version": 3
   },
   "file_extension": ".py",
   "mimetype": "text/x-python",
   "name": "python",
   "nbconvert_exporter": "python",
   "pygments_lexer": "ipython3",
   "version": "3.6.1"
  }
 },
 "nbformat": 4,
 "nbformat_minor": 2
}
