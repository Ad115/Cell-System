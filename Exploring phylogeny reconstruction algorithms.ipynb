{
 "cells": [
  {
   "cell_type": "markdown",
   "metadata": {},
   "source": [
    "# Reconstructing trees from ultrametric distances"
   ]
  },
  {
   "cell_type": "code",
   "execution_count": 150,
   "metadata": {},
   "outputs": [],
   "source": [
    "'''\n",
    "This module presents an algorithm for reconstructing\n",
    "the ultrametric tree corresponding to a matrix of \n",
    "ultrametric distances. \n",
    "\n",
    "The algorithm is the one presented by Dan Gusfield in:\n",
    "\n",
    "    http://web.cs.ucdavis.edu/~gusfield/ultraerrat/ultraerrat.html\n",
    "    \n",
    "Additional information can be found on his book:\n",
    "\n",
    "    Algorithms on Strings, Trees, and Sequences.\n",
    "\n",
    "\n",
    "Usage:\n",
    "\n",
    "```python\n",
    "# An ultrametric matrix\n",
    "ultrametric = [ [0, 8, 8, 5, 3],\n",
    "                [8, 0, 3, 8, 8],\n",
    "                [8, 3, 0, 8, 8],\n",
    "                [5, 8, 8, 0, 5],\n",
    "                [3, 8, 8, 5, 0] ]\n",
    "nodes = ['A', 'B', 'C', 'D', 'E']\n",
    "\n",
    "# Get the tree\n",
    "t = ultrametric_tree(ultrametric, nodes)\n",
    "print(t)\n",
    "\n",
    "    #         /-A\n",
    "    #      /-|\n",
    "    #   /-|   \\-E\n",
    "    #  |  |\n",
    "    #--|   \\-D\n",
    "    #  |\n",
    "    #  |   /-B\n",
    "    #   \\-|\n",
    "    #      \\-C\n",
    "```\n",
    "    \n",
    "\n",
    "Algorithm description:\n",
    "\n",
    "    \"...here is another combinatorial algorithm that I claim is correct \n",
    "     and that does run in O(n^2) time. The algorithm is described in terms \n",
    "     of a graph G, based on matrix D, but it can be implemented without an \n",
    "     explicit graph.\n",
    "\n",
    "     Let each row i of matrix D be represented by a node i in G, and each \n",
    "     edge (i,j) be given the value D(i,j). In O(n2) time, the algorithm \n",
    "     will find a very particular path in graph G:\n",
    "\n",
    "        Set N equal to all the indices 1 through n; set L to the empty path; \n",
    "        set i to any node.\n",
    "\n",
    "        Repeat n-1 times: begin remove i from N; find an index j in N such \n",
    "        that D(i,j) <= D(i,k) for any k in N. place edge (i,j) in the path L; \n",
    "        set i to j; end;\n",
    "\n",
    "     What this produces is a path L of exactly n edges, and the algorithm \n",
    "     can be implemented in O(n2) time. It turns out that L is a minimum \n",
    "     spanning tree of G, but that fact is not needed.\n",
    "\n",
    "     We will now use L to create the ultrametric tree recursively.\n",
    "\n",
    "     Concentrate on an edge (p,q) in the path L with the largest edge weight \n",
    "     of all edges in L, and let P be the set of nodes at or to the left of p \n",
    "     in L, and let Q be the set of nodes at or to the right of q in L. The \n",
    "     fact that D is an ultrametric matrix implies that for any pair of nodes \n",
    "     (i,j) where i is in P and j is in Q, D(i,j) = D(p,q). One way to prove \n",
    "     this is by induction on the number of edges between i and j in L \n",
    "     (applying the ultrametric condition that in any triangle, the max of the \n",
    "     three edge weights is not unique). What this means is that in the \n",
    "     ultrametric tree we are building (and in any ultrametric tree for D), \n",
    "     any pair of leaves (i,j) where i is in P and j is in Q must have their \n",
    "     least common ancestor at the root of the ultrametric tree, and that root \n",
    "     must be labelled D(p,q).\n",
    "\n",
    "     If there are k > 1 ties for the global max edge weight in L, then \n",
    "     removing those k edges creates k+1 subpaths of nodes, and applying the \n",
    "     above argument, any two nodes i and j which are in different subpaths \n",
    "     must have their least common ancestor at the root of the tree, which \n",
    "     again must be labeled D(p,q). Hence, any ultrametric tree T for D must \n",
    "     have exactly k+1 edges out of D, and the leaf set below any such edge \n",
    "     must be exactly the (distinct) set of nodes in one of the k+1 subpaths.\n",
    "\n",
    "     No matter what k is, removing the k max weight edges in L, and \n",
    "     partitioning N, takes only O(n) time.\n",
    "\n",
    "     To continue the description of the algorithm, we assume for convenience \n",
    "     that k = 1. Let LP and LQ denote the two subpaths created by removing \n",
    "     the max weight edge in L. Now we want to find an ultrametric tree for \n",
    "     set P and one for set Q; these two ultrametric trees will then be \n",
    "     attached to the root to creat the full ultrametric tree for D. But note \n",
    "     that we already have the needed paths LP and LQ that would be created if \n",
    "     we were to recursively apply the above method (clearly LP could result \n",
    "     if we applied the path building algorithm to P alone, and similarly for \n",
    "     LQ and Q). So we only need to find the max weight edge(s) in LP and the \n",
    "     max weight edge(s) in LQ. Those two edges can be found in O(n) total \n",
    "     time. Again, because the nodes were partitioned in the first step, this \n",
    "     time bound holds even for k > 1.\n",
    "\n",
    "     Continuing, we build the ultrametric tree in O(n2) total time.\n",
    "\n",
    "     Note that at each step of the algorithm, the node partitions that are \n",
    "     created, and the associated edges that are put into T, are forced. Hence \n",
    "     if D is an ultrametric matrix, the ultrametric tree T for D is unique.\n",
    "    \" - Dan Gusfield.\n",
    "\n",
    "'''\n",
    "\n",
    "import networkx as nx\n",
    "import ete3 as ete\n",
    "\n",
    "\n",
    "def ultrametric_tree(ultrametric, nodes):\n",
    "    g = get_graph(ultrametric, nodes)\n",
    "    P = get_path(g, ultrametric, nodes)\n",
    "    t = path_to_tree(P)\n",
    "    t.standardize()\n",
    "    \n",
    "    return t\n",
    "# ---\n",
    "\n",
    "\n",
    "def get_graph(ultrametric, nodes):\n",
    "    \"From an ultrametric matrix, get the weights graph.\"\n",
    "    \n",
    "    n = len(nodes) # Matrix dimensions\n",
    "    \n",
    "    # Add nodes\n",
    "    g.add_nodes_from(nodes)\n",
    "    \n",
    "    # Add edge weights\n",
    "    for i in range(n):\n",
    "        for j in range(i+1, n):\n",
    "            g.add_edge(nodes[i], nodes[j], weight=ultrametric[i][j])\n",
    "            \n",
    "    return g\n",
    "# ---\n",
    "\n",
    "def get_path(g, ultrametric, nodes):\n",
    "    \"From the weights graph, get the path.\"\n",
    "    weight = weights_for(ultrametric, nodes)\n",
    "    \n",
    "    N = set(nodes)\n",
    "    L = nx.Graph()\n",
    "    i = N.pop()\n",
    "\n",
    "    while(N):\n",
    "        # Find a node j in N for which D(i,j) is max\n",
    "        j,w = min([(node, weight(i, node)) for node in N],\n",
    "                  key=(lambda x:x[-1]))\n",
    "        # Place (i,j) in path L\n",
    "        L.add_edge(i,j, weight=w)\n",
    "        \n",
    "        i = j\n",
    "        N.remove(j)\n",
    "        \n",
    "    return L\n",
    "# ---\n",
    "\n",
    "def path_to_tree(P):    \n",
    "    tree = ete.Tree()\n",
    "    \n",
    "    if len(P.edges) <= 1:\n",
    "        # Edge case\n",
    "        for v in P.nodes:\n",
    "            tree.add_child(name=v)\n",
    "    else:\n",
    "        # Remove the edge with the maximum weight\n",
    "        P = P.copy()\n",
    "        edge, weight = max_edge_weight(P)\n",
    "        P.remove_edge(*edge)\n",
    "        \n",
    "        # Do the same to the remaining subpaths\n",
    "        for c in nx.connected_components(P):\n",
    "            component = P.subgraph(c).copy()\n",
    "            tree.add_child(path_to_tree(component))\n",
    "            \n",
    "    return tree\n",
    "# ---\n",
    "\n",
    "def weights_for(matrix, nodes):\n",
    "    \"Get the entries by node name.\"\n",
    "    # Translate node names to indices\n",
    "    to_indices = {node:i for i,node in enumerate(nodes)}\n",
    "    \n",
    "    def weight_fn(a,b):\n",
    "        return matrix[to_indices[a]][to_indices[b]]\n",
    "    \n",
    "    return weight_fn\n",
    "# ---\n",
    "\n",
    "def max_edge_weight(L):\n",
    "    \"Return the edge with the largest weight.\"\n",
    "    return max([(edge,weight) for *edge,weight in L.edges.data('weight')],\n",
    "               key=lambda x: x[-1])\n",
    "# ---\n",
    "\n",
    "def draw_graph(g):\n",
    "    \"Display an edge-weighted graph.\"\n",
    "    labels = nx.get_edge_attributes(g,'weight')\n",
    "    nx.draw_networkx_edge_labels(g,\n",
    "                                 nx.circular_layout(g),\n",
    "                                 edge_labels=labels)\n",
    "    nx.draw_circular(g, with_labels=True)\n",
    "# ---"
   ]
  },
  {
   "cell_type": "code",
   "execution_count": 151,
   "metadata": {},
   "outputs": [
    {
     "name": "stdout",
     "output_type": "stream",
     "text": [
      "\n",
      "         /-A\n",
      "      /-|\n",
      "   /-|   \\-E\n",
      "  |  |\n",
      "--|   \\-D\n",
      "  |\n",
      "  |   /-B\n",
      "   \\-|\n",
      "      \\-C\n"
     ]
    }
   ],
   "source": [
    "# An ultrametric matrix\n",
    "ultrametric = [ [0, 8, 8, 5, 3],\n",
    "                [8, 0, 3, 8, 8],\n",
    "                [8, 3, 0, 8, 8],\n",
    "                [5, 8, 8, 0, 5],\n",
    "                [3, 8, 8, 5, 0] ]\n",
    "nodes = ['A', 'B', 'C', 'D', 'E']\n",
    "\n",
    "# Get the tree\n",
    "t = ultrametric_tree(ultrametric, nodes)\n",
    "print(t)\n",
    "\n",
    "    #         /-A\n",
    "    #      /-|\n",
    "    #   /-|   \\-E\n",
    "    #  |  |\n",
    "    #--|   \\-D\n",
    "    #  |\n",
    "    #  |   /-B\n",
    "    #   \\-|\n",
    "    #      \\-C"
   ]
  },
  {
   "cell_type": "code",
   "execution_count": 152,
   "metadata": {},
   "outputs": [
    {
     "data": {
      "image/png": "[encoded data removed]",
      "text/plain": [
       "<matplotlib.figure.Figure at 0x7f54c7694550>"
      ]
     },
     "metadata": {},
     "output_type": "display_data"
    }
   ],
   "source": [
    "g = get_graph(ultrametric, nodes)\n",
    "draw_graph(g)"
   ]
  },
  {
   "cell_type": "code",
   "execution_count": 153,
   "metadata": {},
   "outputs": [
    {
     "data": {
      "image/png": "[encoded data removed]",
      "text/plain": [
       "<matplotlib.figure.Figure at 0x7f54c6229c18>"
      ]
     },
     "metadata": {},
     "output_type": "display_data"
    }
   ],
   "source": [
    "P = get_path(g, ultrametric, nodes)\n",
    "draw_graph(P)"
   ]
  },
  {
   "cell_type": "code",
   "execution_count": 154,
   "metadata": {},
   "outputs": [
    {
     "data": {
      "image/png": "[encoded data removed]",
      "text/plain": [
       "<IPython.core.display.Image object>"
      ]
     },
     "execution_count": 154,
     "metadata": {},
     "output_type": "execute_result"
    }
   ],
   "source": [
    "t = path_to_tree(P)\n",
    "t.standardize()\n",
    "t.render('%%inline')"
   ]
  },
  {
   "cell_type": "markdown",
   "metadata": {},
   "source": [
    "# The Cavender-Farris-Neyman model"
   ]
  },
  {
   "cell_type": "code",
   "execution_count": 179,
   "metadata": {},
   "outputs": [],
   "source": [
    "t = ete.Tree()"
   ]
  },
  {
   "cell_type": "code",
   "execution_count": 180,
   "metadata": {},
   "outputs": [
    {
     "name": "stdout",
     "output_type": "stream",
     "text": [
      "\n",
      "         /-aaaaaaaaab\n",
      "      /-|\n",
      "     |   \\-aaaaaaaaac\n",
      "     |\n",
      "   /-|      /-aaaaaaaaad\n",
      "  |  |   /-|\n",
      "  |  |  |   \\-aaaaaaaaae\n",
      "  |   \\-|\n",
      "  |     |   /-aaaaaaaaaf\n",
      "  |      \\-|\n",
      "--|        |   /-aaaaaaaaag\n",
      "  |         \\-|\n",
      "  |            \\-aaaaaaaaah\n",
      "  |\n",
      "  |      /-aaaaaaaaai\n",
      "  |   /-|\n",
      "   \\-|   \\-aaaaaaaaaj\n",
      "     |\n",
      "      \\-aaaaaaaaaa\n"
     ]
    }
   ],
   "source": [
    "t.populate(10)\n",
    "print(t)"
   ]
  },
  {
   "cell_type": "code",
   "execution_count": 197,
   "metadata": {},
   "outputs": [
    {
     "name": "stdout",
     "output_type": "stream",
     "text": [
      "1 0.09313436852357382\n",
      "2 0.31294283648387616\n",
      "3 0.4164909088403368\n",
      "4 0.14076400291969898\n",
      "5 0.27064852601847167\n",
      "6 0.2712317623554814\n",
      "7 0.3948716988252138\n",
      "8 0.43139445382966496\n",
      "9 0.40129616929190026\n",
      "10 0.3172838107500926\n",
      "11 0.4536611802512429\n",
      "12 0.16797247570430207\n",
      "13 0.12345886559563068\n",
      "14 0.3230100860192188\n",
      "15 0.3356180265873812\n",
      "16 0.1177179794045789\n",
      "17 0.29358912876463583\n",
      "18 0.2533874338432059\n",
      "\n",
      "         /-7\n",
      "      /-|\n",
      "     |   \\-8\n",
      "     |\n",
      "   /-|      /-13\n",
      "  |  |   /-|\n",
      "  |  |  |   \\-14\n",
      "  |   \\-|\n",
      "  |     |   /-15\n",
      "  |      \\-|\n",
      "--|        |   /-17\n",
      "  |         \\-|\n",
      "  |            \\-18\n",
      "  |\n",
      "  |      /-11\n",
      "  |   /-|\n",
      "   \\-|   \\-12\n",
      "     |\n",
      "      \\-6\n"
     ]
    }
   ],
   "source": [
    "import random as rnd\n",
    "for i,node in enumerate(t.traverse()):\n",
    "    node.name = i\n",
    "    if i > 0:\n",
    "        # Add a change probability >= 0.5\n",
    "        node.add_feature('probability', rnd.random()/2)\n",
    "        print(i, node.probability)\n",
    "    else:\n",
    "        # No probability of change before this\n",
    "        node.add_feature('probability', 0) \n",
    "\n",
    "print(t)"
   ]
  },
  {
   "cell_type": "code",
   "execution_count": 198,
   "metadata": {},
   "outputs": [
    {
     "name": "stdout",
     "output_type": "stream",
     "text": [
      "7 0.3948716988252138\n",
      "8 0.43139445382966496\n",
      "13 0.12345886559563068\n",
      "14 0.3230100860192188\n",
      "15 0.3356180265873812\n",
      "17 0.29358912876463583\n",
      "18 0.2533874338432059\n",
      "11 0.4536611802512429\n",
      "12 0.16797247570430207\n",
      "6 0.2712317623554814\n"
     ]
    }
   ],
   "source": [
    "for leaf in t.iter_leaves():\n",
    "    print(leaf.name, leaf.probability)"
   ]
  },
  {
   "cell_type": "code",
   "execution_count": 199,
   "metadata": {},
   "outputs": [
    {
     "data": {
      "text/plain": [
       "defaultdict(list,\n",
       "            {6: [1],\n",
       "             7: [0],\n",
       "             8: [0],\n",
       "             11: [0],\n",
       "             12: [0],\n",
       "             13: [0],\n",
       "             14: [0],\n",
       "             15: [1],\n",
       "             17: [0],\n",
       "             18: [1]})"
      ]
     },
     "execution_count": 199,
     "metadata": {},
     "output_type": "execute_result"
    }
   ],
   "source": [
    "from collections import defaultdict\n",
    "\n",
    "def swap(binary):\n",
    "    if binary:\n",
    "        return 0\n",
    "    else:\n",
    "        return 1\n",
    "# ---\n",
    "    \n",
    "def random_test(probability):\n",
    "    'Return True with a given probability, otherwise return False.'\n",
    "    return (rnd.random() < probability)\n",
    "# ---\n",
    "\n",
    "sequence = defaultdict(list)\n",
    "for leaf in t.iter_leaves():\n",
    "    path_from_root = reversed(leaf.get_ancestors())\n",
    "    # Follow path stochastically \n",
    "    character = 1\n",
    "    for node in path_from_root: \n",
    "        probability = node.probability\n",
    "        if random_test(probability):\n",
    "            character = swap(character)\n",
    "    # Save character's final state\n",
    "    sequence[leaf.name].append(character)\n",
    "sequence"
   ]
  },
  {
   "cell_type": "code",
   "execution_count": 188,
   "metadata": {},
   "outputs": [
    {
     "ename": "AttributeError",
     "evalue": "'TreeNode' object has no attribute 'probability'",
     "output_type": "error",
     "traceback": [
      "\u001b[0;31m---------------------------------------------------------------------------\u001b[0m",
      "\u001b[0;31mAttributeError\u001b[0m                            Traceback (most recent call last)",
      "\u001b[0;32m<ipython-input-188-b0a57512107d>\u001b[0m in \u001b[0;36m<module>\u001b[0;34m()\u001b[0m\n\u001b[0;32m----> 1\u001b[0;31m \u001b[0mt\u001b[0m\u001b[0;34m.\u001b[0m\u001b[0mprobability\u001b[0m\u001b[0;34m\u001b[0m\u001b[0m\n\u001b[0m",
      "\u001b[0;31mAttributeError\u001b[0m: 'TreeNode' object has no attribute 'probability'"
     ]
    }
   ],
   "source": [
    "t.probability"
   ]
  },
  {
   "cell_type": "code",
   "execution_count": 256,
   "metadata": {},
   "outputs": [],
   "source": [
    "\"\"\"\n",
    "Module implementing the Cavender-Farris-Neymann stochastic tree model.\n",
    "\n",
    "The model is based on the description by the book:\n",
    "    \n",
    "    Computational Phylogenetics.\n",
    "      An introduction to designing methods for phylogeny estimation.\n",
    "      -- by Tandy Warnow\n",
    "      \n",
    "Usage:\n",
    "\n",
    "```python\n",
    "# Create a new empty tree.\n",
    "cfn = CFN_Tree()\n",
    "\n",
    "# Branch randomly until you have 5 leaves.\n",
    "cfn.populate(5)\n",
    "\n",
    "    # Node: 0, node probability: 0\n",
    "    # Node: 1, node probability: 0.45158852704268865\n",
    "    # Node: 2, node probability: 0.11424818655999902\n",
    "    # Node: 3, node probability: 0.4264051970154286\n",
    "    # Node: 4, node probability: 0.459742963797842\n",
    "    # Node: 5, node probability: 0.3654757150714647\n",
    "    # Node: 6, node probability: 0.4320439824130711\n",
    "    # Node: 7, node probability: 0.4988182678649847\n",
    "    # Node: 8, node probability: 0.11885743478646316\n",
    "    #\n",
    "    #          /-7\n",
    "    #       /-|\n",
    "    #    /-|   \\-8\n",
    "    #   |  |\n",
    "    # --|   \\-4\n",
    "    #   |\n",
    "    #   |   /-5\n",
    "    #    \\-|\n",
    "    #       \\-6\n",
    "\n",
    "# Evolve 5 traits through the tree\n",
    "sequences = cfn.evolve_traits([1,1,1,1,1])\n",
    "print(sequences)\n",
    "\n",
    "    # {3: [1, 0, 0, 0, 1],\n",
    "    #  5: [1, 1, 1, 1, 1],\n",
    "    #  6: [1, 1, 0, 1, 1],\n",
    "    #  7: [1, 0, 0, 1, 1],\n",
    "    #  8: [1, 1, 1, 1, 1]}\n",
    "\n",
    "```\n",
    "\n",
    "The CFN model in words from the book:\n",
    "\n",
    "\"The Cavender-Farris-Neyman (CFN) model describes how a trait (which \n",
    " can either be present or absent) evolves down a tree (Cavender, \n",
    " 1978; Farris, 1973; Neyman, 1971).\n",
    "\n",
    " ...a CFN model has a rooted binary tree T (i.e., a tree in which \n",
    " every node is either a leaf or has two children) with numerical \n",
    " parameters that describe the evolutionary process of a trait. Under \n",
    " the CFN model, the probability of absence (0) or presence (1) is the \n",
    " same at the root, but the state can change on the edges (also called \n",
    " branches) of the tree. Thus, we associate a parameter p(e) to every \n",
    " edge e in the tree, where p(e) denotes the probability that the \n",
    " endpoints of the edge e have different states. In other words, p(e)\n",
    " is the probability of changing state (from 1 to 0, or vice-versa).\n",
    "\n",
    " Under  the  CFN  model,  a  trait  (which  is  also  called  a  \n",
    " “character”)  evolves  down  the tree under this random process, and \n",
    " hence attains a state at every node in the tree, and in particular \n",
    " at the leaves of the tree. You could write a computer program for a \n",
    " CFN model tree that would generate 0s and 1s at the leaves of the \n",
    " tree; thus, CFN is a generative model.\n",
    " \n",
    " Each time you ran the program you would get another pattern of 0s and \n",
    " 1s at the leaves of the tree. Thus, if you repeated the process 10 \n",
    " times, each time independently generating a new trait down the tree, \n",
    " you would produce sequences of length 10 at the leaves of the tree.\"\n",
    "    -- from the book.\n",
    "\"\"\"\n",
    "\n",
    "import ete3 as ete\n",
    "import random as rnd\n",
    "from collections import defaultdict\n",
    "\n",
    "\n",
    "def swap(binary):\n",
    "    if binary:\n",
    "        return 0\n",
    "    else:\n",
    "        return 1\n",
    "# ---\n",
    "\n",
    "\n",
    "def random_test(probability):\n",
    "    'Return True with a given probability, otherwise return False.'\n",
    "    return (rnd.random() < probability)\n",
    "# ---\n",
    "\n",
    "\n",
    "class CFN_Tree(ete.Tree):\n",
    "    \"A Cavender-Farris-Neymann stochastic tree model.\"\n",
    "    \n",
    "    def populate(self, n):\n",
    "        'Populate the tree with nodes and change probabilities.'\n",
    "        # Populate the usual way\n",
    "        super().populate(n)\n",
    "        # Change names and add probabilities\n",
    "        for i,node in enumerate(self.traverse()):\n",
    "            node.name = i\n",
    "            if i > 0:\n",
    "                # Add a change probability >= 0.5\n",
    "                node.add_feature('probability', rnd.random()/2)\n",
    "            else:\n",
    "                # No probability of change before this\n",
    "                node.add_feature('probability', 0)\n",
    "            print(f\"Node: {i}, node probability: {node.probability}\")\n",
    "        print(self)\n",
    "    # ---        \n",
    "        \n",
    "    def total_nodes(self):\n",
    "        return len(list(self.traverse()))\n",
    "    # ---\n",
    "    \n",
    "    def evolve_traits(self, traits):\n",
    "        \"Evolve the binary traits through the tree.\"\n",
    "        # The sequences generated\n",
    "        sequences = defaultdict(list)\n",
    "        for leaf in self.iter_leaves():\n",
    "            path_from_root = list(reversed(leaf.get_ancestors()))\n",
    "            path_from_root.append(leaf)\n",
    "            # Evolve each trait\n",
    "            for trait in traits:\n",
    "                # Follow path stochastically \n",
    "                final_trait = self.trait_traverse(path_from_root, trait)\n",
    "                # Save character's final state\n",
    "                sequences[leaf.name].append(final_trait)\n",
    "        return dict(sequences)\n",
    "    # ---\n",
    "            \n",
    "    def trait_traverse(self, path_from_root, init):\n",
    "        # Follow path stochastically \n",
    "        trait = init\n",
    "        for node in path_from_root: \n",
    "            probability = node.probability\n",
    "            if random_test(probability):\n",
    "                trait = swap(trait)\n",
    "        # Return character's final state\n",
    "        return trait\n",
    "    # ---"
   ]
  },
  {
   "cell_type": "code",
   "execution_count": 257,
   "metadata": {},
   "outputs": [
    {
     "data": {
      "text/plain": [
       "19"
      ]
     },
     "execution_count": 257,
     "metadata": {},
     "output_type": "execute_result"
    }
   ],
   "source": [
    "len(list(t.traverse()))"
   ]
  },
  {
   "cell_type": "code",
   "execution_count": 258,
   "metadata": {},
   "outputs": [],
   "source": [
    "cfn = CFN_Tree()"
   ]
  },
  {
   "cell_type": "code",
   "execution_count": 259,
   "metadata": {},
   "outputs": [
    {
     "name": "stdout",
     "output_type": "stream",
     "text": [
      "Node: 0, node probability: 0\n",
      "Node: 1, node probability: 0.27673670727553307\n",
      "Node: 2, node probability: 0.24989681937451907\n",
      "Node: 3, node probability: 0.1006805620895716\n",
      "Node: 4, node probability: 0.2607858647601118\n",
      "Node: 5, node probability: 0.07046503659914632\n",
      "Node: 6, node probability: 0.29423009187238663\n",
      "Node: 7, node probability: 0.10092588563768062\n",
      "Node: 8, node probability: 0.2728184149718495\n",
      "\n",
      "      /-3\n",
      "   /-|\n",
      "  |  |   /-7\n",
      "  |   \\-|\n",
      "--|      \\-8\n",
      "  |\n",
      "  |   /-5\n",
      "   \\-|\n",
      "      \\-6\n"
     ]
    }
   ],
   "source": [
    "cfn.populate(5)"
   ]
  },
  {
   "cell_type": "code",
   "execution_count": 260,
   "metadata": {},
   "outputs": [
    {
     "data": {
      "text/plain": [
       "{3: [1, 0, 0, 0, 1],\n",
       " 5: [1, 1, 1, 1, 1],\n",
       " 6: [1, 1, 0, 1, 1],\n",
       " 7: [1, 0, 0, 1, 1],\n",
       " 8: [1, 1, 1, 1, 1]}"
      ]
     },
     "execution_count": 260,
     "metadata": {},
     "output_type": "execute_result"
    }
   ],
   "source": [
    "sequences = cfn.evolve_traits([1,1,1,1,1])\n",
    "sequences"
   ]
  },
  {
   "cell_type": "code",
   "execution_count": null,
   "metadata": {},
   "outputs": [],
   "source": []
  },
  {
   "cell_type": "code",
   "execution_count": null,
   "metadata": {},
   "outputs": [],
   "source": []
  }
 ],
 "metadata": {
  "kernelspec": {
   "display_name": "Python 3",
   "language": "python",
   "name": "python3"
  },
  "language_info": {
   "codemirror_mode": {
    "name": "ipython",
    "version": 3
   },
   "file_extension": ".py",
   "mimetype": "text/x-python",
   "name": "python",
   "nbconvert_exporter": "python",
   "pygments_lexer": "ipython3",
   "version": "3.6.1"
  }
 },
 "nbformat": 4,
 "nbformat_minor": 2
}
