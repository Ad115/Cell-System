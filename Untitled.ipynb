{
 "cells": [
  {
   "cell_type": "code",
   "execution_count": 10,
   "metadata": {},
   "outputs": [],
   "source": [
    "from cellsystem import *"
   ]
  },
  {
   "cell_type": "code",
   "execution_count": 11,
   "metadata": {},
   "outputs": [],
   "source": [
    "sys = CellSystem()"
   ]
  },
  {
   "cell_type": "code",
   "execution_count": 12,
   "metadata": {},
   "outputs": [],
   "source": [
    "log = FullLog()"
   ]
  },
  {
   "cell_type": "code",
   "execution_count": 13,
   "metadata": {},
   "outputs": [
    {
     "name": "stdout",
     "output_type": "stream",
     "text": [
      "New cell 0 added @ (5, 5)\n"
     ]
    }
   ],
   "source": [
    "sys.seed(log=log)"
   ]
  },
  {
   "cell_type": "code",
   "execution_count": 14,
   "metadata": {},
   "outputs": [
    {
     "name": "stdout",
     "output_type": "stream",
     "text": [
      "Cell no. 0 mutating @ site (5, 5) (father None)\n",
      "\t\t Initial mutations: []\n",
      "                \t Initial genome: AAAAAAAAAA\n",
      "\t\t Final mutations: [(1, 'T')]\n",
      "                \t Final genome: ATAAAAAAAA\n",
      "Cell no. 0 migrating from site (5, 5) (father None)\n",
      "\t New site: (5, 4)\n",
      "Cell no. 0 dividing @ (5, 4)\n",
      "\tNew cells: 2 @ (5, 5) and 1 @ (4, 4)\n",
      "Cell no. 2 migrating from site (5, 5) (father 0)\n",
      "\t New site: (5, 6)\n",
      "Cell no. 1 dividing @ (4, 4)\n",
      "\tNew cells: 4 @ (5, 4) and 3 @ (3, 4)\n",
      "Cell no. 2 dividing @ (5, 6)\n",
      "\tNew cells: 6 @ (5, 6) and 5 @ (6, 7)\n",
      "Cell no. 3 dividing @ (3, 4)\n",
      "\tNew cells: 8 @ (3, 5) and 7 @ (2, 3)\n",
      "Cell no. 4 death @ site (5, 4) (father 1)\n",
      "Cell no. 6 dividing @ (5, 6)\n",
      "\tNew cells: 10 @ (6, 6) and 9 @ (5, 6)\n",
      "Cell no. 7 mutating @ site (2, 3) (father 3)\n",
      "\t\t Initial mutations: [(1, 'T')]\n",
      "                \t Initial genome: ATAAAAAAAA\n",
      "\t\t Final mutations: [(1, 'T'), (3, 'A')]\n",
      "                \t Final genome: ATAAAAAAAA\n",
      "Cell no. 8 dividing @ (3, 5)\n",
      "\tNew cells: 12 @ (3, 6) and 11 @ (2, 6)\n",
      "Cell no. 5 migrating from site (6, 7) (father 2)\n",
      "\t New site: (6, 7)\n",
      "Cell no. 5 mutating @ site (6, 7) (father 2)\n",
      "\t\t Initial mutations: [(1, 'T')]\n",
      "                \t Initial genome: ATAAAAAAAA\n",
      "\t\t Final mutations: [(1, 'T'), (5, 'A')]\n",
      "                \t Final genome: ATAAAAAAAA\n",
      "Cell no. 10 migrating from site (6, 6) (father 6)\n",
      "\t New site: (6, 7)\n",
      "Cell no. 11 dividing @ (2, 6)\n",
      "\tNew cells: 14 @ (2, 5) and 13 @ (2, 6)\n",
      "Cell no. 7 migrating from site (2, 3) (father 3)\n",
      "\t New site: (2, 3)\n",
      "Cell no. 9 migrating from site (5, 6) (father 6)\n",
      "\t New site: (6, 5)\n",
      "Cell no. 12 migrating from site (3, 6) (father 8)\n",
      "\t New site: (4, 7)\n",
      "Cell no. 14 death @ site (2, 5) (father 11)\n",
      "Cell no. 9 migrating from site (6, 5) (father 6)\n",
      "\t New site: (6, 6)\n",
      "Cell no. 10 dividing @ (6, 7)\n",
      "\tNew cells: 16 @ (6, 8) and 15 @ (5, 8)\n",
      "Cell no. 12 mutating @ site (4, 7) (father 8)\n",
      "\t\t Initial mutations: [(1, 'T')]\n",
      "                \t Initial genome: ATAAAAAAAA\n",
      "\t\t Final mutations: [(1, 'T'), (5, 'C')]\n",
      "                \t Final genome: ATAAACAAAA\n",
      "Cell no. 13 dividing @ (2, 6)\n",
      "\tNew cells: 18 @ (1, 6) and 17 @ (2, 7)\n",
      "Cell no. 5 mutating @ site (6, 7) (father 2)\n",
      "\t\t Initial mutations: [(1, 'T'), (5, 'A')]\n",
      "                \t Initial genome: ATAAAAAAAA\n",
      "\t\t Final mutations: [(1, 'T'), (5, 'A'), (8, 'G')]\n",
      "                \t Final genome: ATAAAAAAGA\n",
      "Cell no. 7 mutating @ site (2, 3) (father 3)\n",
      "\t\t Initial mutations: [(1, 'T'), (3, 'A')]\n",
      "                \t Initial genome: ATAAAAAAAA\n",
      "\t\t Final mutations: [(1, 'T'), (3, 'A'), (1, 'T')]\n",
      "                \t Final genome: ATAAAAAAAA\n",
      "Cell no. 16 death @ site (6, 8) (father 10)\n",
      "Cell no. 5 dividing @ (6, 7)\n",
      "\tNew cells: 20 @ (6, 7) and 19 @ (6, 8)\n",
      "Cell no. 18 death @ site (1, 6) (father 13)\n",
      "Cell no. 12 dividing @ (4, 7)\n",
      "\tNew cells: 22 @ (4, 6) and 21 @ (5, 8)\n",
      "Cell no. 15 dividing @ (5, 8)\n",
      "\tNew cells: 24 @ (6, 8) and 23 @ (6, 9)\n",
      "Cell no. 9 migrating from site (6, 6) (father 6)\n",
      "\t New site: (7, 7)\n"
     ]
    }
   ],
   "source": [
    "sys.step(10, log=log)"
   ]
  },
  {
   "cell_type": "code",
   "execution_count": 15,
   "metadata": {},
   "outputs": [
    {
     "data": {
      "image/png": "[encoded data removed]",
      "text/plain": [
       "<IPython.core.display.Image object>"
      ]
     },
     "execution_count": 15,
     "metadata": {},
     "output_type": "execute_result"
    }
   ],
   "source": [
    "log.ancestry().render('%%inline')"
   ]
  },
  {
   "cell_type": "code",
   "execution_count": 16,
   "metadata": {},
   "outputs": [
    {
     "data": {
      "image/png": "[encoded data removed]",
      "text/plain": [
       "<IPython.core.display.Image object>"
      ]
     },
     "execution_count": 16,
     "metadata": {},
     "output_type": "execute_result"
    }
   ],
   "source": [
    "log.ancestry(prune_death=True).render('%%inline')"
   ]
  },
  {
   "cell_type": "code",
   "execution_count": 8,
   "metadata": {},
   "outputs": [
    {
     "data": {
      "image/png": "[encoded data removed]",
      "text/plain": [
       "<IPython.core.display.Image object>"
      ]
     },
     "execution_count": 8,
     "metadata": {},
     "output_type": "execute_result"
    }
   ],
   "source": [
    "log.mutations().render('%%inline')"
   ]
  },
  {
   "cell_type": "code",
   "execution_count": 9,
   "metadata": {},
   "outputs": [
    {
     "data": {
      "image/png": "[encoded data removed]",
      "text/plain": [
       "<IPython.core.display.Image object>"
      ]
     },
     "execution_count": 9,
     "metadata": {},
     "output_type": "execute_result"
    }
   ],
   "source": [
    "log.mutations(prune_death=True).render('%%inline')"
   ]
  },
  {
   "cell_type": "code",
   "execution_count": null,
   "metadata": {},
   "outputs": [],
   "source": []
  }
 ],
 "metadata": {
  "kernelspec": {
   "display_name": "Python 3",
   "language": "python",
   "name": "python3"
  },
  "language_info": {
   "codemirror_mode": {
    "name": "ipython",
    "version": 3
   },
   "file_extension": ".py",
   "mimetype": "text/x-python",
   "name": "python",
   "nbconvert_exporter": "python",
   "pygments_lexer": "ipython3",
   "version": "3.6.1"
  }
 },
 "nbformat": 4,
 "nbformat_minor": 2
}
